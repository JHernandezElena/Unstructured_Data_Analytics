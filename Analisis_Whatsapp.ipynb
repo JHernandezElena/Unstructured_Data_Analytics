{
  "nbformat": 4,
  "nbformat_minor": 0,
  "metadata": {
    "colab": {
      "name": "Analisis_Whatsapp.ipynb",
      "provenance": [],
      "collapsed_sections": []
    },
    "kernelspec": {
      "name": "python3",
      "display_name": "Python 3"
    }
  },
  "cells": [
    {
      "cell_type": "markdown",
      "metadata": {
        "id": "evGUboXvfKHF",
        "colab_type": "text"
      },
      "source": [
        "**ANALISIS CHAT DE WHATSAPP**"
      ]
    },
    {
      "cell_type": "code",
      "metadata": {
        "id": "FgmW5mUA6Cep",
        "colab_type": "code",
        "colab": {}
      },
      "source": [
        "import re\n",
        "import io\n",
        "import sys"
      ],
      "execution_count": 0,
      "outputs": []
    },
    {
      "cell_type": "markdown",
      "metadata": {
        "id": "SLjKlI6S6nam",
        "colab_type": "text"
      },
      "source": [
        "Cargamos nuestro local Google Drive para poder acceder a los archivos que tengamos subidos ahi:\n"
      ]
    },
    {
      "cell_type": "code",
      "metadata": {
        "id": "wKfSFgXZ6mv6",
        "colab_type": "code",
        "colab": {}
      },
      "source": [
        "from google.colab import drive\n",
        "drive.mount('/gdrive')\n",
        "%cd /gdrive/My\\ Drive"
      ],
      "execution_count": 0,
      "outputs": []
    },
    {
      "cell_type": "markdown",
      "metadata": {
        "id": "82xsCmNw6vjv",
        "colab_type": "text"
      },
      "source": [
        "Cargamos el path del log de WhatsApp que vayamos a analizar"
      ]
    },
    {
      "cell_type": "code",
      "metadata": {
        "id": "l5uc78JX6Gzj",
        "colab_type": "code",
        "colab": {}
      },
      "source": [
        "path = \"Jugadoras_chat.txt\""
      ],
      "execution_count": 0,
      "outputs": []
    },
    {
      "cell_type": "code",
      "metadata": {
        "id": "BXONFV2C6G17",
        "colab_type": "code",
        "colab": {}
      },
      "source": [
        "# Limpia los caracteres mas raros    \n",
        "def replace_bad_character(line):\n",
        "    return line.strip().replace(u\"\\u202a\", \"\").replace(u\"\\u200e\", \"\").replace(u\"\\u202c\", \"\").replace(u\"\\xa0\", \" \")"
      ],
      "execution_count": 0,
      "outputs": []
    },
    {
      "cell_type": "markdown",
      "metadata": {
        "id": "zQlkMFIf0qxj",
        "colab_type": "text"
      },
      "source": [
        "Creamos una funcion que carge el archivo txt limipiando los caracteres raros:"
      ]
    },
    {
      "cell_type": "code",
      "metadata": {
        "id": "iqBVZB646G6P",
        "colab_type": "code",
        "colab": {}
      },
      "source": [
        "def load_text(path):\n",
        "    with open(path, \"r\", encoding=\"utf8\") as input_file:\n",
        "        text = [replace_bad_character(line) for line in input_file.readlines()]\n",
        "    return text"
      ],
      "execution_count": 0,
      "outputs": []
    },
    {
      "cell_type": "code",
      "metadata": {
        "id": "Y5exOmMJ6G8W",
        "colab_type": "code",
        "colab": {}
      },
      "source": [
        "def is_starting_line(line): # Comprueba si es la primera linea que explica una persona\n",
        "    pattern = r\"\"\"\n",
        "        (\\[?)       #Zero or one open square bracket '['\n",
        "        (((\\d{1,2})   #1 to 2 digit date\n",
        "        (/|-)       #'/' or '-' separator\n",
        "        (\\d{1,2})   #1 to 2 digit month\n",
        "        (/|-)       #'/' or '-' separator\n",
        "        (\\d{2,4}))   #2 to 4 digit of year\n",
        "        (,?\\s)      #Zero or one comma ',' and ingle space\n",
        "        ((\\d{1,2})  #1 to 2 digit of hour\n",
        "        (:|\\.)      #Colon ':' or dot '.' separator\n",
        "        (\\d{2})     #2 digit of minute\n",
        "        (\\.|:)?     #Zero or one of dot '.' or colon ':'\n",
        "        (\\d{2})?    #Zero or one of 2 digits of second\n",
        "        (\\s[AP]M)?))  #Zero or one of ('space', 'A' or 'P', and 'M'\n",
        "        (\\]?\\s-?\\s?\\s?)#Zero or one close square bracket ']', Zero or one (space and '-'), zero or one space\n",
        "        (.+)        #One or more character of chat member phone number or contact name\n",
        "    \"\"\"\n",
        "    return re.match(re.compile(pattern, re.VERBOSE), line)"
      ],
      "execution_count": 0,
      "outputs": []
    },
    {
      "cell_type": "code",
      "metadata": {
        "id": "qmD5p_Su6G-T",
        "colab_type": "code",
        "colab": {}
      },
      "source": [
        "def is_chat(body): # Comprueba que es un texto o que en realidad es un archivo, un sticker...\n",
        "    pattern = r\"\"\"\n",
        "            ([^:]+)#Chat member\n",
        "            (:)   #Colon separator\n",
        "            (.+)  #One or more charachter of message content\n",
        "    \"\"\"\n",
        "    \n",
        "    return re.match(re.compile(pattern, re.VERBOSE), body)"
      ],
      "execution_count": 0,
      "outputs": []
    },
    {
      "cell_type": "code",
      "metadata": {
        "id": "7xCHelhn6HAW",
        "colab_type": "code",
        "colab": {}
      },
      "source": [
        "def contains_attachment(body): # Comprueba si es un archivo\n",
        "    pattern_attachment = [\n",
        "        \".*<Media omitted>$\", #English version of android attachment\n",
        "        \".*<Media tidak disertakan>$\", #Indonesia version of android attachment\n",
        "        \".*Pesan tidak didukung$\", #Some device not recognize sticker attachment\n",
        "        \".+\\.vcf \\(file\\sterlampir\\)$\", #Indonesian version of android contact card,\n",
        "        \".+\\.vcf \\(file\\sattached\\)$\", #Indonesian version of android contact card,\n",
        "        \".*image omitted$\",\n",
        "        \".*video omitted$\",\n",
        "        \".*document omitted$\",\n",
        "        \".*Contact card omitted$\",\n",
        "        \".*audio omitted$\",\n",
        "        \".*GIF omitted$\",\n",
        "        \".*sticker omitted$\"\n",
        "    ]\n",
        "    \n",
        "    for p in pattern_attachment:\n",
        "        match = re.match(p, body)\n",
        "        if match:\n",
        "            return body\n",
        "    return None"
      ],
      "execution_count": 0,
      "outputs": []
    },
    {
      "cell_type": "code",
      "metadata": {
        "id": "Q9U5KyPE6HCY",
        "colab_type": "code",
        "colab": {}
      },
      "source": [
        "def is_event(body): # Evento: cambio de nombre, que alguien entra/sale del grupo...\n",
        "    pattern_event = [\n",
        "        \"Messages to this group are now secured with end-to-end encryption\\.$\",\n",
        "        \".+\\screated this group$\",\n",
        "        \".+\\skeluar$\",\n",
        "        \".+\\sleft$\",\n",
        "        \".+\\stelah bergabung menggunakan tautan undangan grup ini$\",\n",
        "        \".+\\smenambahkan\\s.+\",\n",
        "        \".+\\sadded\\s.+\",\n",
        "        \".+\\sremoved\\s.+\",\n",
        "        \".*You joined using this group's invite links$\",\n",
        "        \".+'s security code changed\\.$\",\n",
        "        \".*telah mengganti nomor teleponnya ke nomor baru. Ketuk untuk mengirim pesan atau menambahkan nomor baru\\.$\",\n",
        "        \".*changed their phone number to a new number. Tap to message or add the new number\\.$\"\n",
        "    ]\n",
        "    \n",
        "    for p in pattern_event:\n",
        "        match = re.match(p, body)\n",
        "        if match:\n",
        "            return match\n",
        "    return None"
      ],
      "execution_count": 0,
      "outputs": []
    },
    {
      "cell_type": "code",
      "metadata": {
        "id": "QFb6GEjk6HGb",
        "colab_type": "code",
        "colab": {}
      },
      "source": [
        "def is_deleted(body): # Mensajes borrados\n",
        "    p = [\n",
        "        \".*This message was deleted\\.$\",\n",
        "        \".*Pesan ini telah dihapus$\"\n",
        "    ]\n",
        "    \n",
        "    for p in p:\n",
        "        match = re.match(p, body)\n",
        "        if match:\n",
        "            return body\n",
        "    return None"
      ],
      "execution_count": 0,
      "outputs": []
    },
    {
      "cell_type": "code",
      "metadata": {
        "id": "8EEvu_aJ6HIr",
        "colab_type": "code",
        "colab": {}
      },
      "source": [
        "def get_words(msg): # Cuenta las palabras mas usadas\n",
        "    \n",
        "    #remove non alpha content\n",
        "    regex = re.sub(r\"[^a-z\\s]+\", \"\", msg.lower())\n",
        "    regex = re.sub(r'[^\\x00-\\x7f]',r'', regex)\n",
        "    words = regex.split(\" \")\n",
        "    \n",
        "    for x in words:\n",
        "        if x:\n",
        "            rank_word(x)\n",
        "            \n",
        "    return words\n",
        "\n",
        "def rank_word(word): # Las ranquea\n",
        "    \n",
        "    if not word in common_words:\n",
        "        popular_words[word] = popular_words.get(word, 0) + 1\n",
        "        global chat_words\n",
        "        chat_words += \" {0}\".format(word)\n",
        "        \n",
        "    return word"
      ],
      "execution_count": 0,
      "outputs": []
    },
    {
      "cell_type": "markdown",
      "metadata": {
        "id": "UWXKQnJN66t-",
        "colab_type": "text"
      },
      "source": [
        "Cargamos el fichero de common words en espanol:\n"
      ]
    },
    {
      "cell_type": "code",
      "metadata": {
        "id": "DKHc7U0O6HKr",
        "colab_type": "code",
        "colab": {}
      },
      "source": [
        "common_words = []\n",
        "cw_filepath = \"es_cw\"\n",
        "common_words = __import__(cw_filepath, globals(), locals(), [common_words]).common_words"
      ],
      "execution_count": 0,
      "outputs": []
    },
    {
      "cell_type": "code",
      "metadata": {
        "id": "PIMD9kTv6HMu",
        "colab_type": "code",
        "colab": {}
      },
      "source": [
        "chat = load_text(path)"
      ],
      "execution_count": 0,
      "outputs": []
    },
    {
      "cell_type": "code",
      "metadata": {
        "id": "L8ZX46S66XkM",
        "colab_type": "code",
        "outputId": "11a1618f-162a-4831-da8b-38bf11a3e224",
        "colab": {
          "base_uri": "https://localhost:8080/",
          "height": 347
        }
      },
      "source": [
        "chat[1:20]"
      ],
      "execution_count": 0,
      "outputs": [
        {
          "output_type": "execute_result",
          "data": {
            "text/plain": [
              "['[30/7/19 22:44:18] Paola Madrid creó el grupo “Jugadoras MCFF 19/20”',\n",
              " '[30/7/19 22:44:18] Paola Madrid te añadió',\n",
              " '[30/7/19 22:49:30] Paola Madrid cambió el ícono de este grupo',\n",
              " '[30/7/19 23:13:26] Laurita 🖤⚪️: Mañana a qué hora?',\n",
              " '[30/7/19 23:15:14] Pozitaa : 10:30 empieza el entreno',\n",
              " '[30/7/19 23:15:24] Pozitaa : Bueno, hay video',\n",
              " '[31/7/19 14:35:25] Paola Madrid: Me dice Andrés que intentar ir con largos y si pueden ser negros o oscuros mejor 😊',\n",
              " '[31/7/19 21:13:12] Paola Madrid: imagen omitida',\n",
              " '[31/7/19 21:13:12] Paola Madrid: imagen omitida',\n",
              " '[31/7/19 21:13:13] Paola Madrid: imagen omitida',\n",
              " '[31/7/19 21:13:13] Paola Madrid: imagen omitida',\n",
              " '[31/7/19 21:13:14] Paola Madrid: imagen omitida',\n",
              " '[31/7/19 21:13:14] Paola Madrid: imagen omitida',\n",
              " '[31/7/19 21:15:14] Paola Madrid: 💕',\n",
              " '[31/7/19 22:24:58] Laura Fernandez Atleti: Este mensaje fue eliminado.',\n",
              " '[31/7/19 22:24:59] Laura Fernandez Atleti: Este mensaje fue eliminado.',\n",
              " '[31/7/19 22:27:34] Laura Fernandez Atleti: Ay perdón!! 🤦🏻\\u200d♀😅 Me he equivocado...',\n",
              " '[31/7/19 22:28:00] Yaas Madrid: 😂😂😂',\n",
              " '[31/7/19 23:39:16] Yaas Madrid: https://we.tl/t-kB66wVNIgO']"
            ]
          },
          "metadata": {
            "tags": []
          },
          "execution_count": 58
        }
      ]
    },
    {
      "cell_type": "code",
      "metadata": {
        "id": "6A0WnM5b6Xmq",
        "colab_type": "code",
        "colab": {}
      },
      "source": [
        "member_list = []\n",
        "for line in chat:\n",
        "    if is_starting_line(line):\n",
        "        body = is_starting_line(line).group(18)\n",
        "        chat = is_chat(body)\n",
        "        if chat:\n",
        "            member = chat.group(1)\n",
        "            message_body = chat.group(3)\n",
        "            if member not in member_list:\n",
        "                member_list.append(member)"
      ],
      "execution_count": 0,
      "outputs": []
    },
    {
      "cell_type": "code",
      "metadata": {
        "id": "aJQ6UToQ6Xtu",
        "colab_type": "code",
        "outputId": "33020e33-7e1a-43d8-ce38-0d3049e01a8b",
        "colab": {
          "base_uri": "https://localhost:8080/",
          "height": 520
        }
      },
      "source": [
        "member_list"
      ],
      "execution_count": 0,
      "outputs": [
        {
          "output_type": "execute_result",
          "data": {
            "text/plain": [
              "['Jugadoras MCFF 19/20',\n",
              " 'Laurita 🖤⚪️',\n",
              " 'Pozitaa ',\n",
              " 'Paola Madrid',\n",
              " 'Laura Fernandez Atleti',\n",
              " 'Yaas Madrid',\n",
              " '+502 3513 4758',\n",
              " '+34 605 47 92 97',\n",
              " 'Lore Reina Capi',\n",
              " '+34 663 82 70 35',\n",
              " 'Maca ⚪️⚫️',\n",
              " '+34 651 76 73 32',\n",
              " 'Turmo Madrid',\n",
              " 'Alba Mellado ⚪️🖤',\n",
              " 'Estela ⚪️🖤',\n",
              " 'Carol Hernandez ⚪️🖤',\n",
              " 'Itzi😇',\n",
              " '+34 673 56 85 62',\n",
              " 'Clau Madrid ⚪️⚫️',\n",
              " '+34 669 08 68 04',\n",
              " 'Sara Rubio Atm',\n",
              " 'Julii Madrid ⚪️⚫️',\n",
              " 'Mella 2.0',\n",
              " '+1 (407) 803‑9926',\n",
              " 'Ale ⚪️🖤',\n",
              " 'Silvia rubio',\n",
              " 'Teru Bb👶🏼💜',\n",
              " 'Ana Catalá ⚪️🖤',\n",
              " 'Ire Cachalotis']"
            ]
          },
          "metadata": {
            "tags": []
          },
          "execution_count": 61
        }
      ]
    },
    {
      "cell_type": "code",
      "metadata": {
        "id": "mWauqX0S6Xv6",
        "colab_type": "code",
        "colab": {}
      },
      "source": [
        "popular_words = {}"
      ],
      "execution_count": 0,
      "outputs": []
    },
    {
      "cell_type": "code",
      "metadata": {
        "id": "khCEEa6l6XyE",
        "colab_type": "code",
        "outputId": "499526a1-2aae-4c56-d464-0c3ae5f751dc",
        "colab": {
          "base_uri": "https://localhost:8080/",
          "height": 131
        }
      },
      "source": [
        "def parse_line(line, verbose):\n",
        "    \n",
        "    is_starting = is_starting_line(line)\n",
        "    \n",
        "    if is_starting_line:\n",
        "        #Check wether the starting line is a chat or an event\n",
        "        body = is_starting.group(18)\n",
        "        chat = is_chat(body)\n",
        "                \n",
        "        if chat:\n",
        "            has_attachment = contains_attachment(chat.group(3))\n",
        "            increment_chat_count(chat.group(1))\n",
        "            message_body = chat.group(3)\n",
        "            #print(chat.groups())\n",
        "            \n",
        "            \n",
        "            if has_attachment:\n",
        "                \n",
        "            else:\n",
        "                if is_deleted(message_body):\n",
        "                    \n",
        "                else:\n",
        "                   \n",
        "                    #Word Count & Wordcloud\n",
        "                    get_words(message_body)\n",
        "                \n",
        "        elif is_event(body):\n",
        "        \n",
        "    else:\n",
        "        \n",
        "        #Word Count & Wordcloud\n",
        "        get_words(line)"
      ],
      "execution_count": 0,
      "outputs": [
        {
          "output_type": "error",
          "ename": "IndentationError",
          "evalue": "ignored",
          "traceback": [
            "\u001b[0;36m  File \u001b[0;32m\"<ipython-input-65-87b1e171e867>\"\u001b[0;36m, line \u001b[0;32m19\u001b[0m\n\u001b[0;31m    else:\u001b[0m\n\u001b[0m       ^\u001b[0m\n\u001b[0;31mIndentationError\u001b[0m\u001b[0;31m:\u001b[0m expected an indented block\n"
          ]
        }
      ]
    },
    {
      "cell_type": "code",
      "metadata": {
        "id": "6mmsK2hK6X0d",
        "colab_type": "code",
        "colab": {}
      },
      "source": [
        ""
      ],
      "execution_count": 0,
      "outputs": []
    }
  ]
}