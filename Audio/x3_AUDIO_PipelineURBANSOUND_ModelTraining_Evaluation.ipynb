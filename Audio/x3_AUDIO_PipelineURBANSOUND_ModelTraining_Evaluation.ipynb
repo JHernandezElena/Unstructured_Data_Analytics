{
 "cells": [
  {
   "cell_type": "markdown",
   "metadata": {},
   "source": [
    "# Classifying Urban sounds using Deep Learning\n",
    "\n",
    "## 3 Model Training and Evaluation "
   ]
  },
  {
   "cell_type": "markdown",
   "metadata": {},
   "source": [
    "### Load Preprocessed data "
   ]
  },
  {
   "cell_type": "code",
   "execution_count": 57,
   "metadata": {},
   "outputs": [],
   "source": [
    "ruta = 'P:/Documentos/ICAI/Clases/Analisis de Datos No Estructurados/Audio/data/'"
   ]
  },
  {
   "cell_type": "code",
   "execution_count": 58,
   "metadata": {},
   "outputs": [],
   "source": [
    "# retrieve the preprocessed data from previous notebook\n",
    "\n",
    "%store -r x_train \n",
    "%store -r x_test \n",
    "%store -r y_train \n",
    "%store -r y_test \n",
    "%store -r yy \n",
    "%store -r le"
   ]
  },
  {
   "cell_type": "markdown",
   "metadata": {},
   "source": [
    "### Initial model architecture - MLP\n",
    "\n",
    "We will start with constructing a Multilayer Perceptron (MLP) Neural Network using Keras and a Tensorflow backend. \n",
    "\n",
    "Starting with a `sequential` model so we can build the model layer by layer. \n",
    "\n",
    "We will begin with a simple model architecture, consisting of three layers, an input layer, a hidden layer and an output layer. All three layers will be of the `dense` layer type which is a standard layer type that is used in many cases for neural networks. \n",
    "\n",
    "The first layer will receive the input shape. As each sample contains 40 MFCCs (or columns) we have a shape of (1x40) this means we will start with an input shape of 40. \n",
    "\n",
    "The first two layers will have 256 nodes. The activation function we will be using for our first 2 layers is the `ReLU`, or `Rectified Linear Activation`. This activation function has been proven to work well in neural networks.\n",
    "\n",
    "We will also apply a `Dropout` value of 50% on our first two layers. This will randomly exclude nodes from each update cycle which in turn results in a network that is capable of better generalisation and is less likely to overfit the training data.\n",
    "\n",
    "Our output layer will have 10 nodes (num_labels) which matches the number of possible classifications. The activation is for our output layer is `softmax`. Softmax makes the output sum up to 1 so the output can be interpreted as probabilities. The model will then make its prediction based on which option has the highest probability."
   ]
  },
  {
   "cell_type": "code",
   "execution_count": 60,
   "metadata": {},
   "outputs": [],
   "source": [
    "import numpy as np\n",
    "from keras.models import Sequential\n",
    "from keras.layers import Dense, Dropout, Activation, Flatten\n",
    "from keras.layers import Convolution2D, MaxPooling2D\n",
    "from keras.optimizers import Adam\n",
    "from keras.utils import np_utils\n",
    "from sklearn import metrics \n",
    "\n",
    "num_labels = yy.shape[1]\n",
    "filter_size = 2\n",
    "\n",
    "# Construct model \n",
    "model = Sequential()\n",
    "\n",
    "model.add(Dense(256, input_shape=(40,))) #40\n",
    "model.add(Activation('relu'))\n",
    "model.add(Dropout(0.5))\n",
    "\n",
    "model.add(Dense(256))\n",
    "model.add(Activation('relu'))\n",
    "model.add(Dropout(0.5))\n",
    "\n",
    "model.add(Dense(num_labels))\n",
    "model.add(Activation('softmax'))"
   ]
  },
  {
   "cell_type": "markdown",
   "metadata": {},
   "source": [
    "### Compiling the model \n",
    "\n",
    "For compiling our model, we will use the following three parameters: \n",
    "\n",
    "* Loss function - we will use `categorical_crossentropy`. This is the most common choice for classification. A lower score indicates that the model is performing better.\n",
    "\n",
    "* Metrics - we will use the `accuracy` metric which will allow us to view the accuracy score on the validation data when we train the model. \n",
    "\n",
    "* Optimizer - here we will use `adam` which is a generally good optimizer for many use cases.\n"
   ]
  },
  {
   "cell_type": "code",
   "execution_count": 61,
   "metadata": {},
   "outputs": [],
   "source": [
    "# Compile the model\n",
    "model.compile(loss='categorical_crossentropy', metrics=['accuracy'], optimizer='adam') "
   ]
  },
  {
   "cell_type": "code",
   "execution_count": 62,
   "metadata": {},
   "outputs": [
    {
     "name": "stdout",
     "output_type": "stream",
     "text": [
      "Model: \"sequential_11\"\n",
      "_________________________________________________________________\n",
      "Layer (type)                 Output Shape              Param #   \n",
      "=================================================================\n",
      "dense_31 (Dense)             (None, 256)               10496     \n",
      "_________________________________________________________________\n",
      "activation_31 (Activation)   (None, 256)               0         \n",
      "_________________________________________________________________\n",
      "dropout_21 (Dropout)         (None, 256)               0         \n",
      "_________________________________________________________________\n",
      "dense_32 (Dense)             (None, 256)               65792     \n",
      "_________________________________________________________________\n",
      "activation_32 (Activation)   (None, 256)               0         \n",
      "_________________________________________________________________\n",
      "dropout_22 (Dropout)         (None, 256)               0         \n",
      "_________________________________________________________________\n",
      "dense_33 (Dense)             (None, 10)                2570      \n",
      "_________________________________________________________________\n",
      "activation_33 (Activation)   (None, 10)                0         \n",
      "=================================================================\n",
      "Total params: 78,858\n",
      "Trainable params: 78,858\n",
      "Non-trainable params: 0\n",
      "_________________________________________________________________\n",
      "Pre-training accuracy: 2.5000%\n"
     ]
    }
   ],
   "source": [
    "# Display model architecture summary \n",
    "model.summary()\n",
    "\n",
    "# Calculate pre-training accuracy \n",
    "score = model.evaluate(x_test, y_test, verbose=0)\n",
    "accuracy = 100*score[1]\n",
    "\n",
    "print(\"Pre-training accuracy: %.4f%%\" % accuracy)"
   ]
  },
  {
   "cell_type": "markdown",
   "metadata": {},
   "source": [
    "### Training \n",
    "\n",
    "Here we will train the model. \n",
    "\n",
    "We will start with 100 epochs which is the number of times the model will cycle through the data. The model will improve on each cycle until it reaches a certain point. \n",
    "\n",
    "We will also start with a low batch size, as having a large batch size can reduce the generalisation ability of the model. "
   ]
  },
  {
   "cell_type": "code",
   "execution_count": 64,
   "metadata": {},
   "outputs": [
    {
     "name": "stdout",
     "output_type": "stream",
     "text": [
      "Train on 319 samples, validate on 80 samples\n",
      "Epoch 1/100\n",
      "319/319 [==============================] - 0s 140us/step - loss: 15.9259 - accuracy: 0.2790 - val_loss: 4.2920 - val_accuracy: 0.5875\n",
      "\n",
      "Epoch 00001: val_loss improved from inf to 4.29201, saving model to P:/Documentos/ICAI/Clases/Analisis de Datos No Estructurados/Audio/data/saved_models/weights.best.basic_mlp.hdf5\n",
      "Epoch 2/100\n",
      "319/319 [==============================] - 0s 145us/step - loss: 12.2174 - accuracy: 0.4232 - val_loss: 3.0675 - val_accuracy: 0.6000\n",
      "\n",
      "Epoch 00002: val_loss improved from 4.29201 to 3.06752, saving model to P:/Documentos/ICAI/Clases/Analisis de Datos No Estructurados/Audio/data/saved_models/weights.best.basic_mlp.hdf5\n",
      "Epoch 3/100\n",
      "319/319 [==============================] - 0s 147us/step - loss: 8.3799 - accuracy: 0.5016 - val_loss: 1.6576 - val_accuracy: 0.7875\n",
      "\n",
      "Epoch 00003: val_loss improved from 3.06752 to 1.65758, saving model to P:/Documentos/ICAI/Clases/Analisis de Datos No Estructurados/Audio/data/saved_models/weights.best.basic_mlp.hdf5\n",
      "Epoch 4/100\n",
      "319/319 [==============================] - 0s 144us/step - loss: 5.8621 - accuracy: 0.5737 - val_loss: 1.0227 - val_accuracy: 0.8375\n",
      "\n",
      "Epoch 00004: val_loss improved from 1.65758 to 1.02270, saving model to P:/Documentos/ICAI/Clases/Analisis de Datos No Estructurados/Audio/data/saved_models/weights.best.basic_mlp.hdf5\n",
      "Epoch 5/100\n",
      "319/319 [==============================] - 0s 162us/step - loss: 4.5334 - accuracy: 0.6144 - val_loss: 0.8124 - val_accuracy: 0.8500\n",
      "\n",
      "Epoch 00005: val_loss improved from 1.02270 to 0.81236, saving model to P:/Documentos/ICAI/Clases/Analisis de Datos No Estructurados/Audio/data/saved_models/weights.best.basic_mlp.hdf5\n",
      "Epoch 6/100\n",
      "319/319 [==============================] - 0s 171us/step - loss: 3.5945 - accuracy: 0.6395 - val_loss: 0.7923 - val_accuracy: 0.8625\n",
      "\n",
      "Epoch 00006: val_loss improved from 0.81236 to 0.79226, saving model to P:/Documentos/ICAI/Clases/Analisis de Datos No Estructurados/Audio/data/saved_models/weights.best.basic_mlp.hdf5\n",
      "Epoch 7/100\n",
      "319/319 [==============================] - 0s 167us/step - loss: 2.7481 - accuracy: 0.7210 - val_loss: 0.6109 - val_accuracy: 0.8750\n",
      "\n",
      "Epoch 00007: val_loss improved from 0.79226 to 0.61086, saving model to P:/Documentos/ICAI/Clases/Analisis de Datos No Estructurados/Audio/data/saved_models/weights.best.basic_mlp.hdf5\n",
      "Epoch 8/100\n",
      "319/319 [==============================] - 0s 167us/step - loss: 2.5384 - accuracy: 0.6677 - val_loss: 0.5922 - val_accuracy: 0.8500\n",
      "\n",
      "Epoch 00008: val_loss improved from 0.61086 to 0.59222, saving model to P:/Documentos/ICAI/Clases/Analisis de Datos No Estructurados/Audio/data/saved_models/weights.best.basic_mlp.hdf5\n",
      "Epoch 9/100\n",
      "319/319 [==============================] - 0s 158us/step - loss: 2.6332 - accuracy: 0.6552 - val_loss: 0.6067 - val_accuracy: 0.8625\n",
      "\n",
      "Epoch 00009: val_loss did not improve from 0.59222\n",
      "Epoch 10/100\n",
      "319/319 [==============================] - 0s 151us/step - loss: 2.1336 - accuracy: 0.7367 - val_loss: 0.5162 - val_accuracy: 0.8375\n",
      "\n",
      "Epoch 00010: val_loss improved from 0.59222 to 0.51624, saving model to P:/Documentos/ICAI/Clases/Analisis de Datos No Estructurados/Audio/data/saved_models/weights.best.basic_mlp.hdf5\n",
      "Epoch 11/100\n",
      "319/319 [==============================] - 0s 152us/step - loss: 1.8238 - accuracy: 0.7555 - val_loss: 0.4645 - val_accuracy: 0.8625\n",
      "\n",
      "Epoch 00011: val_loss improved from 0.51624 to 0.46445, saving model to P:/Documentos/ICAI/Clases/Analisis de Datos No Estructurados/Audio/data/saved_models/weights.best.basic_mlp.hdf5\n",
      "Epoch 12/100\n",
      "319/319 [==============================] - 0s 177us/step - loss: 1.6876 - accuracy: 0.7806 - val_loss: 0.3950 - val_accuracy: 0.8875\n",
      "\n",
      "Epoch 00012: val_loss improved from 0.46445 to 0.39502, saving model to P:/Documentos/ICAI/Clases/Analisis de Datos No Estructurados/Audio/data/saved_models/weights.best.basic_mlp.hdf5\n",
      "Epoch 13/100\n",
      "319/319 [==============================] - 0s 174us/step - loss: 1.3621 - accuracy: 0.7931 - val_loss: 0.2763 - val_accuracy: 0.9125\n",
      "\n",
      "Epoch 00013: val_loss improved from 0.39502 to 0.27625, saving model to P:/Documentos/ICAI/Clases/Analisis de Datos No Estructurados/Audio/data/saved_models/weights.best.basic_mlp.hdf5\n",
      "Epoch 14/100\n",
      "319/319 [==============================] - 0s 156us/step - loss: 1.3342 - accuracy: 0.7900 - val_loss: 0.1960 - val_accuracy: 0.9375\n",
      "\n",
      "Epoch 00014: val_loss improved from 0.27625 to 0.19597, saving model to P:/Documentos/ICAI/Clases/Analisis de Datos No Estructurados/Audio/data/saved_models/weights.best.basic_mlp.hdf5\n",
      "Epoch 15/100\n",
      "319/319 [==============================] - 0s 168us/step - loss: 1.4350 - accuracy: 0.7774 - val_loss: 0.1775 - val_accuracy: 0.9250\n",
      "\n",
      "Epoch 00015: val_loss improved from 0.19597 to 0.17749, saving model to P:/Documentos/ICAI/Clases/Analisis de Datos No Estructurados/Audio/data/saved_models/weights.best.basic_mlp.hdf5\n",
      "Epoch 16/100\n",
      "319/319 [==============================] - 0s 174us/step - loss: 1.2987 - accuracy: 0.7868 - val_loss: 0.2509 - val_accuracy: 0.9000\n",
      "\n",
      "Epoch 00016: val_loss did not improve from 0.17749\n",
      "Epoch 17/100\n",
      "319/319 [==============================] - 0s 183us/step - loss: 0.9222 - accuracy: 0.8339 - val_loss: 0.2275 - val_accuracy: 0.9000\n",
      "\n",
      "Epoch 00017: val_loss did not improve from 0.17749\n",
      "Epoch 18/100\n",
      "319/319 [==============================] - 0s 161us/step - loss: 0.9785 - accuracy: 0.8150 - val_loss: 0.1572 - val_accuracy: 0.9500\n",
      "\n",
      "Epoch 00018: val_loss improved from 0.17749 to 0.15721, saving model to P:/Documentos/ICAI/Clases/Analisis de Datos No Estructurados/Audio/data/saved_models/weights.best.basic_mlp.hdf5\n",
      "Epoch 19/100\n",
      "319/319 [==============================] - 0s 172us/step - loss: 0.9280 - accuracy: 0.8370 - val_loss: 0.1440 - val_accuracy: 0.9500\n",
      "\n",
      "Epoch 00019: val_loss improved from 0.15721 to 0.14399, saving model to P:/Documentos/ICAI/Clases/Analisis de Datos No Estructurados/Audio/data/saved_models/weights.best.basic_mlp.hdf5\n",
      "Epoch 20/100\n",
      "319/319 [==============================] - 0s 156us/step - loss: 0.9399 - accuracy: 0.8245 - val_loss: 0.1455 - val_accuracy: 0.9625\n",
      "\n",
      "Epoch 00020: val_loss did not improve from 0.14399\n",
      "Epoch 21/100\n",
      "319/319 [==============================] - 0s 161us/step - loss: 0.9370 - accuracy: 0.8213 - val_loss: 0.1524 - val_accuracy: 0.9625\n",
      "\n",
      "Epoch 00021: val_loss did not improve from 0.14399\n",
      "Epoch 22/100\n",
      "319/319 [==============================] - 0s 156us/step - loss: 0.7750 - accuracy: 0.8433 - val_loss: 0.1714 - val_accuracy: 0.9625\n",
      "\n",
      "Epoch 00022: val_loss did not improve from 0.14399\n",
      "Epoch 23/100\n",
      "319/319 [==============================] - 0s 151us/step - loss: 0.8363 - accuracy: 0.8339 - val_loss: 0.1415 - val_accuracy: 0.9750\n",
      "\n",
      "Epoch 00023: val_loss improved from 0.14399 to 0.14151, saving model to P:/Documentos/ICAI/Clases/Analisis de Datos No Estructurados/Audio/data/saved_models/weights.best.basic_mlp.hdf5\n",
      "Epoch 24/100\n",
      "319/319 [==============================] - 0s 154us/step - loss: 0.6245 - accuracy: 0.8715 - val_loss: 0.1221 - val_accuracy: 0.9750\n",
      "\n",
      "Epoch 00024: val_loss improved from 0.14151 to 0.12208, saving model to P:/Documentos/ICAI/Clases/Analisis de Datos No Estructurados/Audio/data/saved_models/weights.best.basic_mlp.hdf5\n",
      "Epoch 25/100\n",
      "319/319 [==============================] - 0s 148us/step - loss: 0.6336 - accuracy: 0.8527 - val_loss: 0.1185 - val_accuracy: 0.9750\n",
      "\n",
      "Epoch 00025: val_loss improved from 0.12208 to 0.11848, saving model to P:/Documentos/ICAI/Clases/Analisis de Datos No Estructurados/Audio/data/saved_models/weights.best.basic_mlp.hdf5\n",
      "Epoch 26/100\n",
      "319/319 [==============================] - 0s 156us/step - loss: 0.5863 - accuracy: 0.8683 - val_loss: 0.1105 - val_accuracy: 0.9750\n",
      "\n",
      "Epoch 00026: val_loss improved from 0.11848 to 0.11049, saving model to P:/Documentos/ICAI/Clases/Analisis de Datos No Estructurados/Audio/data/saved_models/weights.best.basic_mlp.hdf5\n",
      "Epoch 27/100\n",
      "319/319 [==============================] - 0s 168us/step - loss: 0.5487 - accuracy: 0.8746 - val_loss: 0.1145 - val_accuracy: 0.9750\n",
      "\n",
      "Epoch 00027: val_loss did not improve from 0.11049\n",
      "Epoch 28/100\n",
      "319/319 [==============================] - 0s 169us/step - loss: 0.6597 - accuracy: 0.8840 - val_loss: 0.1007 - val_accuracy: 0.9750\n"
     ]
    },
    {
     "name": "stdout",
     "output_type": "stream",
     "text": [
      "\n",
      "Epoch 00028: val_loss improved from 0.11049 to 0.10072, saving model to P:/Documentos/ICAI/Clases/Analisis de Datos No Estructurados/Audio/data/saved_models/weights.best.basic_mlp.hdf5\n",
      "Epoch 29/100\n",
      "319/319 [==============================] - 0s 173us/step - loss: 0.6233 - accuracy: 0.8840 - val_loss: 0.0909 - val_accuracy: 0.9750\n",
      "\n",
      "Epoch 00029: val_loss improved from 0.10072 to 0.09094, saving model to P:/Documentos/ICAI/Clases/Analisis de Datos No Estructurados/Audio/data/saved_models/weights.best.basic_mlp.hdf5\n",
      "Epoch 30/100\n",
      "319/319 [==============================] - 0s 160us/step - loss: 0.4310 - accuracy: 0.8871 - val_loss: 0.0859 - val_accuracy: 0.9750\n",
      "\n",
      "Epoch 00030: val_loss improved from 0.09094 to 0.08588, saving model to P:/Documentos/ICAI/Clases/Analisis de Datos No Estructurados/Audio/data/saved_models/weights.best.basic_mlp.hdf5\n",
      "Epoch 31/100\n",
      "319/319 [==============================] - 0s 170us/step - loss: 0.3235 - accuracy: 0.9028 - val_loss: 0.0817 - val_accuracy: 0.9750\n",
      "\n",
      "Epoch 00031: val_loss improved from 0.08588 to 0.08174, saving model to P:/Documentos/ICAI/Clases/Analisis de Datos No Estructurados/Audio/data/saved_models/weights.best.basic_mlp.hdf5\n",
      "Epoch 32/100\n",
      "319/319 [==============================] - 0s 154us/step - loss: 0.5247 - accuracy: 0.8997 - val_loss: 0.0916 - val_accuracy: 0.9750\n",
      "\n",
      "Epoch 00032: val_loss did not improve from 0.08174\n",
      "Epoch 33/100\n",
      "319/319 [==============================] - 0s 161us/step - loss: 0.4490 - accuracy: 0.8777 - val_loss: 0.0839 - val_accuracy: 0.9750\n",
      "\n",
      "Epoch 00033: val_loss did not improve from 0.08174\n",
      "Epoch 34/100\n",
      "319/319 [==============================] - 0s 161us/step - loss: 0.5025 - accuracy: 0.8871 - val_loss: 0.0854 - val_accuracy: 0.9750\n",
      "\n",
      "Epoch 00034: val_loss did not improve from 0.08174\n",
      "Epoch 35/100\n",
      "319/319 [==============================] - 0s 165us/step - loss: 0.3071 - accuracy: 0.9185 - val_loss: 0.0910 - val_accuracy: 0.9750\n",
      "\n",
      "Epoch 00035: val_loss did not improve from 0.08174\n",
      "Epoch 36/100\n",
      "319/319 [==============================] - 0s 170us/step - loss: 0.3259 - accuracy: 0.9310 - val_loss: 0.0936 - val_accuracy: 0.9625\n",
      "\n",
      "Epoch 00036: val_loss did not improve from 0.08174\n",
      "Epoch 37/100\n",
      "319/319 [==============================] - 0s 157us/step - loss: 0.3287 - accuracy: 0.8966 - val_loss: 0.0875 - val_accuracy: 0.9625\n",
      "\n",
      "Epoch 00037: val_loss did not improve from 0.08174\n",
      "Epoch 38/100\n",
      "319/319 [==============================] - 0s 167us/step - loss: 0.2346 - accuracy: 0.9185 - val_loss: 0.0858 - val_accuracy: 0.9625\n",
      "\n",
      "Epoch 00038: val_loss did not improve from 0.08174\n",
      "Epoch 39/100\n",
      "319/319 [==============================] - 0s 164us/step - loss: 0.4085 - accuracy: 0.9028 - val_loss: 0.0843 - val_accuracy: 0.9625\n",
      "\n",
      "Epoch 00039: val_loss did not improve from 0.08174\n",
      "Epoch 40/100\n",
      "319/319 [==============================] - 0s 157us/step - loss: 0.3377 - accuracy: 0.8997 - val_loss: 0.0752 - val_accuracy: 0.9625\n",
      "\n",
      "Epoch 00040: val_loss improved from 0.08174 to 0.07516, saving model to P:/Documentos/ICAI/Clases/Analisis de Datos No Estructurados/Audio/data/saved_models/weights.best.basic_mlp.hdf5\n",
      "Epoch 41/100\n",
      "319/319 [==============================] - 0s 153us/step - loss: 0.3370 - accuracy: 0.9122 - val_loss: 0.0735 - val_accuracy: 0.9625\n",
      "\n",
      "Epoch 00041: val_loss improved from 0.07516 to 0.07353, saving model to P:/Documentos/ICAI/Clases/Analisis de Datos No Estructurados/Audio/data/saved_models/weights.best.basic_mlp.hdf5\n",
      "Epoch 42/100\n",
      "319/319 [==============================] - 0s 168us/step - loss: 0.3418 - accuracy: 0.9154 - val_loss: 0.0789 - val_accuracy: 0.9625\n",
      "\n",
      "Epoch 00042: val_loss did not improve from 0.07353\n",
      "Epoch 43/100\n",
      "319/319 [==============================] - 0s 165us/step - loss: 0.2646 - accuracy: 0.9310 - val_loss: 0.0859 - val_accuracy: 0.9625\n",
      "\n",
      "Epoch 00043: val_loss did not improve from 0.07353\n",
      "Epoch 44/100\n",
      "319/319 [==============================] - 0s 155us/step - loss: 0.2489 - accuracy: 0.9373 - val_loss: 0.0683 - val_accuracy: 0.9750\n",
      "\n",
      "Epoch 00044: val_loss improved from 0.07353 to 0.06827, saving model to P:/Documentos/ICAI/Clases/Analisis de Datos No Estructurados/Audio/data/saved_models/weights.best.basic_mlp.hdf5\n",
      "Epoch 45/100\n",
      "319/319 [==============================] - 0s 164us/step - loss: 0.2625 - accuracy: 0.9342 - val_loss: 0.0560 - val_accuracy: 0.9750\n",
      "\n",
      "Epoch 00045: val_loss improved from 0.06827 to 0.05597, saving model to P:/Documentos/ICAI/Clases/Analisis de Datos No Estructurados/Audio/data/saved_models/weights.best.basic_mlp.hdf5\n",
      "Epoch 46/100\n",
      "319/319 [==============================] - 0s 178us/step - loss: 0.2347 - accuracy: 0.9404 - val_loss: 0.0509 - val_accuracy: 0.9750\n",
      "\n",
      "Epoch 00046: val_loss improved from 0.05597 to 0.05092, saving model to P:/Documentos/ICAI/Clases/Analisis de Datos No Estructurados/Audio/data/saved_models/weights.best.basic_mlp.hdf5\n",
      "Epoch 47/100\n",
      "319/319 [==============================] - 0s 148us/step - loss: 0.1567 - accuracy: 0.9467 - val_loss: 0.0502 - val_accuracy: 0.9750\n",
      "\n",
      "Epoch 00047: val_loss improved from 0.05092 to 0.05021, saving model to P:/Documentos/ICAI/Clases/Analisis de Datos No Estructurados/Audio/data/saved_models/weights.best.basic_mlp.hdf5\n",
      "Epoch 48/100\n",
      "319/319 [==============================] - 0s 161us/step - loss: 0.1946 - accuracy: 0.9279 - val_loss: 0.0530 - val_accuracy: 0.9750\n",
      "\n",
      "Epoch 00048: val_loss did not improve from 0.05021\n",
      "Epoch 49/100\n",
      "319/319 [==============================] - 0s 158us/step - loss: 0.1875 - accuracy: 0.9498 - val_loss: 0.0605 - val_accuracy: 0.9750\n",
      "\n",
      "Epoch 00049: val_loss did not improve from 0.05021\n",
      "Epoch 50/100\n",
      "319/319 [==============================] - 0s 169us/step - loss: 0.1847 - accuracy: 0.9436 - val_loss: 0.0631 - val_accuracy: 0.9750\n",
      "\n",
      "Epoch 00050: val_loss did not improve from 0.05021\n",
      "Epoch 51/100\n",
      "319/319 [==============================] - 0s 162us/step - loss: 0.2459 - accuracy: 0.9404 - val_loss: 0.0636 - val_accuracy: 0.9750\n",
      "\n",
      "Epoch 00051: val_loss did not improve from 0.05021\n",
      "Epoch 52/100\n",
      "319/319 [==============================] - 0s 158us/step - loss: 0.2580 - accuracy: 0.9342 - val_loss: 0.0646 - val_accuracy: 0.9750\n",
      "\n",
      "Epoch 00052: val_loss did not improve from 0.05021\n",
      "Epoch 53/100\n",
      "319/319 [==============================] - 0s 167us/step - loss: 0.2367 - accuracy: 0.9279 - val_loss: 0.0574 - val_accuracy: 0.9875\n",
      "\n",
      "Epoch 00053: val_loss did not improve from 0.05021\n",
      "Epoch 54/100\n",
      "319/319 [==============================] - 0s 161us/step - loss: 0.1465 - accuracy: 0.9467 - val_loss: 0.0512 - val_accuracy: 0.9875\n",
      "\n",
      "Epoch 00054: val_loss did not improve from 0.05021\n",
      "Epoch 55/100\n",
      "319/319 [==============================] - 0s 153us/step - loss: 0.1855 - accuracy: 0.9561 - val_loss: 0.0544 - val_accuracy: 0.9750\n",
      "\n",
      "Epoch 00055: val_loss did not improve from 0.05021\n",
      "Epoch 56/100\n",
      "319/319 [==============================] - 0s 151us/step - loss: 0.1870 - accuracy: 0.9404 - val_loss: 0.0431 - val_accuracy: 0.9750\n",
      "\n",
      "Epoch 00056: val_loss improved from 0.05021 to 0.04313, saving model to P:/Documentos/ICAI/Clases/Analisis de Datos No Estructurados/Audio/data/saved_models/weights.best.basic_mlp.hdf5\n",
      "Epoch 57/100\n",
      "319/319 [==============================] - 0s 215us/step - loss: 0.1793 - accuracy: 0.9436 - val_loss: 0.0411 - val_accuracy: 0.9750\n",
      "\n",
      "Epoch 00057: val_loss improved from 0.04313 to 0.04105, saving model to P:/Documentos/ICAI/Clases/Analisis de Datos No Estructurados/Audio/data/saved_models/weights.best.basic_mlp.hdf5\n",
      "Epoch 58/100\n",
      "319/319 [==============================] - 0s 180us/step - loss: 0.2002 - accuracy: 0.9436 - val_loss: 0.0456 - val_accuracy: 0.9750\n",
      "\n",
      "Epoch 00058: val_loss did not improve from 0.04105\n",
      "Epoch 59/100\n",
      "319/319 [==============================] - 0s 155us/step - loss: 0.1608 - accuracy: 0.9498 - val_loss: 0.0511 - val_accuracy: 0.9750\n",
      "\n",
      "Epoch 00059: val_loss did not improve from 0.04105\n",
      "Epoch 60/100\n",
      "319/319 [==============================] - 0s 159us/step - loss: 0.1213 - accuracy: 0.9561 - val_loss: 0.0441 - val_accuracy: 0.9875\n",
      "\n",
      "Epoch 00060: val_loss did not improve from 0.04105\n",
      "Epoch 61/100\n",
      "319/319 [==============================] - 0s 152us/step - loss: 0.1277 - accuracy: 0.9561 - val_loss: 0.0465 - val_accuracy: 0.9875\n",
      "\n",
      "Epoch 00061: val_loss did not improve from 0.04105\n",
      "Epoch 62/100\n"
     ]
    },
    {
     "name": "stdout",
     "output_type": "stream",
     "text": [
      "319/319 [==============================] - 0s 153us/step - loss: 0.1397 - accuracy: 0.9592 - val_loss: 0.0455 - val_accuracy: 0.9875\n",
      "\n",
      "Epoch 00062: val_loss did not improve from 0.04105\n",
      "Epoch 63/100\n",
      "319/319 [==============================] - 0s 150us/step - loss: 0.1111 - accuracy: 0.9749 - val_loss: 0.0438 - val_accuracy: 0.9875\n",
      "\n",
      "Epoch 00063: val_loss did not improve from 0.04105\n",
      "Epoch 64/100\n",
      "319/319 [==============================] - 0s 150us/step - loss: 0.1506 - accuracy: 0.9592 - val_loss: 0.0341 - val_accuracy: 0.9875\n",
      "\n",
      "Epoch 00064: val_loss improved from 0.04105 to 0.03407, saving model to P:/Documentos/ICAI/Clases/Analisis de Datos No Estructurados/Audio/data/saved_models/weights.best.basic_mlp.hdf5\n",
      "Epoch 65/100\n",
      "319/319 [==============================] - 0s 147us/step - loss: 0.0867 - accuracy: 0.9812 - val_loss: 0.0303 - val_accuracy: 0.9875\n",
      "\n",
      "Epoch 00065: val_loss improved from 0.03407 to 0.03029, saving model to P:/Documentos/ICAI/Clases/Analisis de Datos No Estructurados/Audio/data/saved_models/weights.best.basic_mlp.hdf5\n",
      "Epoch 66/100\n",
      "319/319 [==============================] - 0s 153us/step - loss: 0.0733 - accuracy: 0.9781 - val_loss: 0.0329 - val_accuracy: 0.9875\n",
      "\n",
      "Epoch 00066: val_loss did not improve from 0.03029\n",
      "Epoch 67/100\n",
      "319/319 [==============================] - 0s 151us/step - loss: 0.1255 - accuracy: 0.9687 - val_loss: 0.0382 - val_accuracy: 0.9750\n",
      "\n",
      "Epoch 00067: val_loss did not improve from 0.03029\n",
      "Epoch 68/100\n",
      "319/319 [==============================] - 0s 160us/step - loss: 0.1170 - accuracy: 0.9592 - val_loss: 0.0326 - val_accuracy: 0.9875\n",
      "\n",
      "Epoch 00068: val_loss did not improve from 0.03029\n",
      "Epoch 69/100\n",
      "319/319 [==============================] - 0s 151us/step - loss: 0.0939 - accuracy: 0.9687 - val_loss: 0.0341 - val_accuracy: 0.9875\n",
      "\n",
      "Epoch 00069: val_loss did not improve from 0.03029\n",
      "Epoch 70/100\n",
      "319/319 [==============================] - 0s 148us/step - loss: 0.0989 - accuracy: 0.9687 - val_loss: 0.0325 - val_accuracy: 0.9875\n",
      "\n",
      "Epoch 00070: val_loss did not improve from 0.03029\n",
      "Epoch 71/100\n",
      "319/319 [==============================] - 0s 145us/step - loss: 0.1222 - accuracy: 0.9718 - val_loss: 0.0312 - val_accuracy: 0.9875\n",
      "\n",
      "Epoch 00071: val_loss did not improve from 0.03029\n",
      "Epoch 72/100\n",
      "319/319 [==============================] - 0s 140us/step - loss: 0.1113 - accuracy: 0.9655 - val_loss: 0.0303 - val_accuracy: 0.9875\n",
      "\n",
      "Epoch 00072: val_loss improved from 0.03029 to 0.03028, saving model to P:/Documentos/ICAI/Clases/Analisis de Datos No Estructurados/Audio/data/saved_models/weights.best.basic_mlp.hdf5\n",
      "Epoch 73/100\n",
      "319/319 [==============================] - 0s 156us/step - loss: 0.1305 - accuracy: 0.9624 - val_loss: 0.0242 - val_accuracy: 0.9875\n",
      "\n",
      "Epoch 00073: val_loss improved from 0.03028 to 0.02416, saving model to P:/Documentos/ICAI/Clases/Analisis de Datos No Estructurados/Audio/data/saved_models/weights.best.basic_mlp.hdf5\n",
      "Epoch 74/100\n",
      "319/319 [==============================] - 0s 151us/step - loss: 0.1075 - accuracy: 0.9718 - val_loss: 0.0259 - val_accuracy: 0.9875\n",
      "\n",
      "Epoch 00074: val_loss did not improve from 0.02416\n",
      "Epoch 75/100\n",
      "319/319 [==============================] - 0s 144us/step - loss: 0.0751 - accuracy: 0.9781 - val_loss: 0.0232 - val_accuracy: 0.9875\n",
      "\n",
      "Epoch 00075: val_loss improved from 0.02416 to 0.02317, saving model to P:/Documentos/ICAI/Clases/Analisis de Datos No Estructurados/Audio/data/saved_models/weights.best.basic_mlp.hdf5\n",
      "Epoch 76/100\n",
      "319/319 [==============================] - 0s 156us/step - loss: 0.0566 - accuracy: 0.9812 - val_loss: 0.0238 - val_accuracy: 0.9875\n",
      "\n",
      "Epoch 00076: val_loss did not improve from 0.02317\n",
      "Epoch 77/100\n",
      "319/319 [==============================] - 0s 158us/step - loss: 0.0510 - accuracy: 0.9875 - val_loss: 0.0272 - val_accuracy: 0.9875\n",
      "\n",
      "Epoch 00077: val_loss did not improve from 0.02317\n",
      "Epoch 78/100\n",
      "319/319 [==============================] - 0s 153us/step - loss: 0.0444 - accuracy: 0.9843 - val_loss: 0.0295 - val_accuracy: 0.9875\n",
      "\n",
      "Epoch 00078: val_loss did not improve from 0.02317\n",
      "Epoch 79/100\n",
      "319/319 [==============================] - 0s 149us/step - loss: 0.0858 - accuracy: 0.9655 - val_loss: 0.0295 - val_accuracy: 0.9875\n",
      "\n",
      "Epoch 00079: val_loss did not improve from 0.02317\n",
      "Epoch 80/100\n",
      "319/319 [==============================] - 0s 144us/step - loss: 0.1225 - accuracy: 0.9687 - val_loss: 0.0293 - val_accuracy: 0.9875\n",
      "\n",
      "Epoch 00080: val_loss did not improve from 0.02317\n",
      "Epoch 81/100\n",
      "319/319 [==============================] - 0s 146us/step - loss: 0.1221 - accuracy: 0.9592 - val_loss: 0.0243 - val_accuracy: 0.9875\n",
      "\n",
      "Epoch 00081: val_loss did not improve from 0.02317\n",
      "Epoch 82/100\n",
      "319/319 [==============================] - 0s 143us/step - loss: 0.0603 - accuracy: 0.9843 - val_loss: 0.0263 - val_accuracy: 0.9875\n",
      "\n",
      "Epoch 00082: val_loss did not improve from 0.02317\n",
      "Epoch 83/100\n",
      "319/319 [==============================] - 0s 165us/step - loss: 0.1143 - accuracy: 0.9687 - val_loss: 0.0299 - val_accuracy: 0.9875\n",
      "\n",
      "Epoch 00083: val_loss did not improve from 0.02317\n",
      "Epoch 84/100\n",
      "319/319 [==============================] - 0s 146us/step - loss: 0.0722 - accuracy: 0.9718 - val_loss: 0.0314 - val_accuracy: 0.9875\n",
      "\n",
      "Epoch 00084: val_loss did not improve from 0.02317\n",
      "Epoch 85/100\n",
      "319/319 [==============================] - 0s 159us/step - loss: 0.1345 - accuracy: 0.9749 - val_loss: 0.0243 - val_accuracy: 0.9875\n",
      "\n",
      "Epoch 00085: val_loss did not improve from 0.02317\n",
      "Epoch 86/100\n",
      "319/319 [==============================] - 0s 147us/step - loss: 0.0750 - accuracy: 0.9718 - val_loss: 0.0195 - val_accuracy: 0.9875\n",
      "\n",
      "Epoch 00086: val_loss improved from 0.02317 to 0.01953, saving model to P:/Documentos/ICAI/Clases/Analisis de Datos No Estructurados/Audio/data/saved_models/weights.best.basic_mlp.hdf5\n",
      "Epoch 87/100\n",
      "319/319 [==============================] - 0s 155us/step - loss: 0.0282 - accuracy: 0.9937 - val_loss: 0.0118 - val_accuracy: 1.0000\n",
      "\n",
      "Epoch 00087: val_loss improved from 0.01953 to 0.01178, saving model to P:/Documentos/ICAI/Clases/Analisis de Datos No Estructurados/Audio/data/saved_models/weights.best.basic_mlp.hdf5\n",
      "Epoch 88/100\n",
      "319/319 [==============================] - 0s 148us/step - loss: 0.0607 - accuracy: 0.9812 - val_loss: 0.0116 - val_accuracy: 1.0000\n",
      "\n",
      "Epoch 00088: val_loss improved from 0.01178 to 0.01155, saving model to P:/Documentos/ICAI/Clases/Analisis de Datos No Estructurados/Audio/data/saved_models/weights.best.basic_mlp.hdf5\n",
      "Epoch 89/100\n",
      "319/319 [==============================] - 0s 142us/step - loss: 0.0788 - accuracy: 0.9655 - val_loss: 0.0126 - val_accuracy: 1.0000\n",
      "\n",
      "Epoch 00089: val_loss did not improve from 0.01155\n",
      "Epoch 90/100\n",
      "319/319 [==============================] - 0s 146us/step - loss: 0.1248 - accuracy: 0.9624 - val_loss: 0.0128 - val_accuracy: 1.0000\n",
      "\n",
      "Epoch 00090: val_loss did not improve from 0.01155\n",
      "Epoch 91/100\n",
      "319/319 [==============================] - 0s 141us/step - loss: 0.0673 - accuracy: 0.9781 - val_loss: 0.0200 - val_accuracy: 0.9875\n",
      "\n",
      "Epoch 00091: val_loss did not improve from 0.01155\n",
      "Epoch 92/100\n",
      "319/319 [==============================] - 0s 144us/step - loss: 0.0273 - accuracy: 0.9906 - val_loss: 0.0227 - val_accuracy: 0.9875\n",
      "\n",
      "Epoch 00092: val_loss did not improve from 0.01155\n",
      "Epoch 93/100\n",
      "319/319 [==============================] - 0s 155us/step - loss: 0.0630 - accuracy: 0.9843 - val_loss: 0.0252 - val_accuracy: 0.9875\n",
      "\n",
      "Epoch 00093: val_loss did not improve from 0.01155\n",
      "Epoch 94/100\n",
      "319/319 [==============================] - 0s 156us/step - loss: 0.0645 - accuracy: 0.9781 - val_loss: 0.0274 - val_accuracy: 0.9875\n",
      "\n",
      "Epoch 00094: val_loss did not improve from 0.01155\n",
      "Epoch 95/100\n",
      "319/319 [==============================] - 0s 157us/step - loss: 0.0381 - accuracy: 0.9937 - val_loss: 0.0311 - val_accuracy: 0.9875\n",
      "\n",
      "Epoch 00095: val_loss did not improve from 0.01155\n",
      "Epoch 96/100\n",
      "319/319 [==============================] - 0s 156us/step - loss: 0.0864 - accuracy: 0.9781 - val_loss: 0.0298 - val_accuracy: 0.9875\n",
      "\n",
      "Epoch 00096: val_loss did not improve from 0.01155\n",
      "Epoch 97/100\n",
      "319/319 [==============================] - 0s 154us/step - loss: 0.0560 - accuracy: 0.9875 - val_loss: 0.0291 - val_accuracy: 0.9875\n",
      "\n",
      "Epoch 00097: val_loss did not improve from 0.01155\n",
      "Epoch 98/100\n"
     ]
    },
    {
     "name": "stdout",
     "output_type": "stream",
     "text": [
      "319/319 [==============================] - 0s 153us/step - loss: 0.0650 - accuracy: 0.9781 - val_loss: 0.0256 - val_accuracy: 0.9875\n",
      "\n",
      "Epoch 00098: val_loss did not improve from 0.01155\n",
      "Epoch 99/100\n",
      "319/319 [==============================] - 0s 148us/step - loss: 0.1152 - accuracy: 0.9687 - val_loss: 0.0215 - val_accuracy: 0.9875\n",
      "\n",
      "Epoch 00099: val_loss did not improve from 0.01155\n",
      "Epoch 100/100\n",
      "319/319 [==============================] - 0s 146us/step - loss: 0.0407 - accuracy: 0.9875 - val_loss: 0.0227 - val_accuracy: 0.9875\n",
      "\n",
      "Epoch 00100: val_loss did not improve from 0.01155\n",
      "Training completed in time:  0:00:08.057318\n"
     ]
    }
   ],
   "source": [
    "from keras.callbacks import ModelCheckpoint \n",
    "from datetime import datetime \n",
    "\n",
    "num_epochs = 100\n",
    "num_batch_size = 32\n",
    "\n",
    "checkpointer = ModelCheckpoint(filepath= ruta + 'saved_models/weights.best.basic_mlp.hdf5', \n",
    "                               verbose=1, save_best_only=True)\n",
    "start = datetime.now()\n",
    "\n",
    "model.fit(x_train, y_train, batch_size=num_batch_size, epochs=num_epochs, validation_data=(x_test, y_test), callbacks=[checkpointer], verbose=1)\n",
    "\n",
    "\n",
    "duration = datetime.now() - start\n",
    "print(\"Training completed in time: \", duration)"
   ]
  },
  {
   "cell_type": "markdown",
   "metadata": {},
   "source": [
    "### Test the model \n",
    "\n",
    "Here we will review the accuracy of the model on both the training and test data sets. "
   ]
  },
  {
   "cell_type": "code",
   "execution_count": 65,
   "metadata": {},
   "outputs": [
    {
     "name": "stdout",
     "output_type": "stream",
     "text": [
      "Training Accuracy:  1.0\n",
      "Testing Accuracy:  0.987500011920929\n"
     ]
    }
   ],
   "source": [
    "# Evaluating the model on the training and testing set\n",
    "score = model.evaluate(x_train, y_train, verbose=0)\n",
    "print(\"Training Accuracy: \", score[1])\n",
    "\n",
    "score = model.evaluate(x_test, y_test, verbose=0)\n",
    "print(\"Testing Accuracy: \", score[1])"
   ]
  },
  {
   "cell_type": "markdown",
   "metadata": {},
   "source": [
    "The initial Training and Testing accuracy scores are quite high. As there is not a great difference between the Training and Test scores (~5%) this suggests that the model has not suffered from overfitting. "
   ]
  },
  {
   "cell_type": "markdown",
   "metadata": {},
   "source": [
    "### Predictions  \n",
    "\n",
    "Here we will build a method which will allow us to test the models predictions on a specified audio .wav file. "
   ]
  },
  {
   "cell_type": "code",
   "execution_count": 66,
   "metadata": {},
   "outputs": [],
   "source": [
    "import librosa \n",
    "import numpy as np \n",
    "\n",
    "def extract_feature(file_name):\n",
    "   \n",
    "    try:\n",
    "        audio_data, sample_rate = librosa.load(file_name, res_type='kaiser_fast') \n",
    "        mfccs = librosa.feature.mfcc(y=audio_data, sr=sample_rate, n_mfcc=40)\n",
    "        mfccsscaled = np.mean(mfccs.T,axis=0)\n",
    "        \n",
    "    except Exception as e:\n",
    "        print(\"Error encountered while parsing file: \", file)\n",
    "        return None, None\n",
    "\n",
    "    return np.array([mfccsscaled])\n"
   ]
  },
  {
   "cell_type": "code",
   "execution_count": 67,
   "metadata": {},
   "outputs": [],
   "source": [
    "def print_prediction(file_name):\n",
    "    prediction_feature = extract_feature(file_name) \n",
    "\n",
    "    predicted_vector = model.predict_classes(prediction_feature)\n",
    "    predicted_class = le.inverse_transform(predicted_vector) \n",
    "    print(\"The predicted class is:\", predicted_class[0], '\\n') \n",
    "\n",
    "    predicted_proba_vector = model.predict_proba(prediction_feature) \n",
    "    predicted_proba = predicted_proba_vector[0]\n",
    "    for i in range(len(predicted_proba)): \n",
    "        category = le.inverse_transform(np.array([i]))\n",
    "        print(category[0], \"\\t\\t : \", format(predicted_proba[i], '.32f') )"
   ]
  },
  {
   "cell_type": "markdown",
   "metadata": {},
   "source": [
    "### Validation \n",
    "\n",
    "#### Test with sample data \n",
    "\n",
    "Initial sainity check to verify the predictions using a subsection of the sample audio files we explored in the first notebook. We expect the bulk of these to be classified correctly. "
   ]
  },
  {
   "cell_type": "code",
   "execution_count": 78,
   "metadata": {},
   "outputs": [
    {
     "name": "stdout",
     "output_type": "stream",
     "text": [
      "The predicted class is: air_conditioner \n",
      "\n",
      "air_conditioner \t\t :  1.00000000000000000000000000000000\n",
      "car_horn \t\t :  0.00000000000009086878656212188377\n",
      "children_playing \t\t :  0.00000001508326796795245172688738\n",
      "dog_bark \t\t :  0.00000000000013569890653861160779\n",
      "drilling \t\t :  0.00000000108132713894093512863037\n",
      "engine_idling \t\t :  0.00000000123514509731137422932079\n",
      "gun_shot \t\t :  0.00000000000093657340997227445101\n",
      "jackhammer \t\t :  0.00000000000185656893504637654502\n",
      "siren \t\t :  0.00000000000013435095863514184833\n",
      "street_music \t\t :  0.00000000000079323900963393367824\n"
     ]
    }
   ],
   "source": [
    "# Class: Air Conditioner\n",
    "\n",
    "filename = ruta + 'UrbanSound8K/audio/fold5/100852-0-0-0.wav' \n",
    "print_prediction(filename) "
   ]
  },
  {
   "cell_type": "code",
   "execution_count": 79,
   "metadata": {
    "scrolled": true
   },
   "outputs": [
    {
     "name": "stdout",
     "output_type": "stream",
     "text": [
      "The predicted class is: drilling \n",
      "\n",
      "air_conditioner \t\t :  0.00000007037179727831244235858321\n",
      "car_horn \t\t :  0.00000007567871307401219382882118\n",
      "children_playing \t\t :  0.00005377611159929074347019195557\n",
      "dog_bark \t\t :  0.00000672001760904095135629177094\n",
      "drilling \t\t :  0.99986040592193603515625000000000\n",
      "engine_idling \t\t :  0.00000000044791009790046132366115\n",
      "gun_shot \t\t :  0.00000000023955243344531140792242\n",
      "jackhammer \t\t :  0.00000001177512132244373788125813\n",
      "siren \t\t :  0.00007890544657129794359207153320\n",
      "street_music \t\t :  0.00000000100394725865982081813854\n"
     ]
    }
   ],
   "source": [
    "# Class: Drilling\n",
    "\n",
    "filename = ruta + 'UrbanSound8K/audio/fold3/103199-4-0-0.wav'\n",
    "print_prediction(filename) "
   ]
  },
  {
   "cell_type": "code",
   "execution_count": 80,
   "metadata": {},
   "outputs": [
    {
     "name": "stdout",
     "output_type": "stream",
     "text": [
      "The predicted class is: street_music \n",
      "\n",
      "air_conditioner \t\t :  0.00000055683381106064189225435257\n",
      "car_horn \t\t :  0.00000155163161252858117222785950\n",
      "children_playing \t\t :  0.00000202188221010146662592887878\n",
      "dog_bark \t\t :  0.00000000537815614265468866506126\n",
      "drilling \t\t :  0.00000019118265015549695817753673\n",
      "engine_idling \t\t :  0.00005027380393585190176963806152\n",
      "gun_shot \t\t :  0.00000283062513517506886273622513\n",
      "jackhammer \t\t :  0.00000000114690057451127813692437\n",
      "siren \t\t :  0.00000742041584089747630059719086\n",
      "street_music \t\t :  0.99993515014648437500000000000000\n"
     ]
    }
   ],
   "source": [
    "# Class: Street music \n",
    "\n",
    "filename = ruta + 'UrbanSound8K/audio/fold7/101848-9-0-0.wav'\n",
    "print_prediction(filename) "
   ]
  },
  {
   "cell_type": "code",
   "execution_count": 83,
   "metadata": {},
   "outputs": [
    {
     "name": "stdout",
     "output_type": "stream",
     "text": [
      "The predicted class is: children_playing \n",
      "\n",
      "air_conditioner \t\t :  0.00000025663487690508191008120775\n",
      "car_horn \t\t :  0.43873438239097595214843750000000\n",
      "children_playing \t\t :  0.55922496318817138671875000000000\n",
      "dog_bark \t\t :  0.00008896659710444509983062744141\n",
      "drilling \t\t :  0.00000773040392232360318303108215\n",
      "engine_idling \t\t :  0.00000085428951024368871003389359\n",
      "gun_shot \t\t :  0.00000043670550553542852867394686\n",
      "jackhammer \t\t :  0.00001462799991713836789131164551\n",
      "siren \t\t :  0.00040928577072918415069580078125\n",
      "street_music \t\t :  0.00151850527618080377578735351562\n"
     ]
    }
   ],
   "source": [
    "# Class: Car Horn \n",
    "\n",
    "filename = ruta + 'UrbanSound8K/audio/fold10/100648-1-0-0.wav'\n",
    "print_prediction(filename) "
   ]
  },
  {
   "cell_type": "markdown",
   "metadata": {},
   "source": [
    "#### Observations \n",
    "\n",
    "From this brief sanity check the model seems to predict well. One errror was observed whereby a car horn was incorrectly classifed as a dog bark. \n",
    "\n",
    "We can see from the per class confidence that this was quite a low score (43%). This allows follows our early observation that a dog bark and car horn are similar in spectral shape. "
   ]
  },
  {
   "cell_type": "markdown",
   "metadata": {},
   "source": [
    "### Other audio\n",
    "\n",
    "Here we will use a sample of various copyright free sounds that we not part of either our test or training data to further validate our model. "
   ]
  },
  {
   "cell_type": "code",
   "execution_count": 84,
   "metadata": {},
   "outputs": [
    {
     "name": "stdout",
     "output_type": "stream",
     "text": [
      "The predicted class is: dog_bark \n",
      "\n",
      "air_conditioner \t\t :  0.00000001960061624117770406883210\n",
      "car_horn \t\t :  0.00067121715983375906944274902344\n",
      "children_playing \t\t :  0.17579813301563262939453125000000\n",
      "dog_bark \t\t :  0.76811760663986206054687500000000\n",
      "drilling \t\t :  0.00000009689290436654118821024895\n",
      "engine_idling \t\t :  0.00000097858367098524468019604683\n",
      "gun_shot \t\t :  0.05533875524997711181640625000000\n",
      "jackhammer \t\t :  0.00000000011452459813821036505033\n",
      "siren \t\t :  0.00006211299478309229016304016113\n",
      "street_music \t\t :  0.00001106958188756834715604782104\n"
     ]
    }
   ],
   "source": [
    "filename = ruta + 'Evaluation audio/dog_bark_1.wav'\n",
    "print_prediction(filename) "
   ]
  },
  {
   "cell_type": "code",
   "execution_count": 85,
   "metadata": {
    "scrolled": true
   },
   "outputs": [
    {
     "name": "stdout",
     "output_type": "stream",
     "text": [
      "The predicted class is: jackhammer \n",
      "\n",
      "air_conditioner \t\t :  0.03365809842944145202636718750000\n",
      "car_horn \t\t :  0.00000000093388741184696755226469\n",
      "children_playing \t\t :  0.00001408237221767194569110870361\n",
      "dog_bark \t\t :  0.00000000089894192090156366248266\n",
      "drilling \t\t :  0.00000000010202207828546860923780\n",
      "engine_idling \t\t :  0.00016141032392624765634536743164\n",
      "gun_shot \t\t :  0.00000001839103447309753391891718\n",
      "jackhammer \t\t :  0.96616637706756591796875000000000\n",
      "siren \t\t :  0.00000000007309666760768607218779\n",
      "street_music \t\t :  0.00000000317920001435822996427305\n"
     ]
    }
   ],
   "source": [
    "filename = ruta + 'Evaluation audio/drilling_1.wav'\n",
    "\n",
    "print_prediction(filename) "
   ]
  },
  {
   "cell_type": "code",
   "execution_count": 86,
   "metadata": {},
   "outputs": [
    {
     "name": "stdout",
     "output_type": "stream",
     "text": [
      "The predicted class is: street_music \n",
      "\n",
      "air_conditioner \t\t :  0.00000088978362100533558987081051\n",
      "car_horn \t\t :  0.00000044146099753561429679393768\n",
      "children_playing \t\t :  0.00001168697144748875871300697327\n",
      "dog_bark \t\t :  0.00000195436700778373051434755325\n",
      "drilling \t\t :  0.00000020943843992426991462707520\n",
      "engine_idling \t\t :  0.01178112905472517013549804687500\n",
      "gun_shot \t\t :  0.00601853430271148681640625000000\n",
      "jackhammer \t\t :  0.00000000009501017333990446900316\n",
      "siren \t\t :  0.00002499081165296956896781921387\n",
      "street_music \t\t :  0.98216015100479125976562500000000\n"
     ]
    }
   ],
   "source": [
    "filename = ruta + 'Evaluation audio/gun_shot_1.wav'\n",
    "\n",
    "print_prediction(filename) \n",
    "\n",
    "# sample data weighted towards gun shot - peak in the dog barking sample is simmilar in shape to the gun shot sample"
   ]
  },
  {
   "cell_type": "code",
   "execution_count": 87,
   "metadata": {},
   "outputs": [
    {
     "name": "stdout",
     "output_type": "stream",
     "text": [
      "The predicted class is: engine_idling \n",
      "\n",
      "air_conditioner \t\t :  0.00000978398566076066344976425171\n",
      "car_horn \t\t :  0.00000008693190522990335011854768\n",
      "children_playing \t\t :  0.00000985066617431584745645523071\n",
      "dog_bark \t\t :  0.00000000261273269686057574290317\n",
      "drilling \t\t :  0.00000044785193153984437230974436\n",
      "engine_idling \t\t :  0.97659450769424438476562500000000\n",
      "gun_shot \t\t :  0.00000320370577355788554996252060\n",
      "jackhammer \t\t :  0.00000021124824911566975060850382\n",
      "siren \t\t :  0.00003039501643797848373651504517\n",
      "street_music \t\t :  0.02335144393146038055419921875000\n"
     ]
    }
   ],
   "source": [
    "filename = ruta + 'Evaluation audio/siren_1.wav'\n",
    "\n",
    "print_prediction(filename) "
   ]
  },
  {
   "cell_type": "markdown",
   "metadata": {},
   "source": [
    "#### Observations \n",
    "\n",
    "The performance of our initial model is satisfactorry and has generalised well, seeming to predict well when tested against new audio data. "
   ]
  },
  {
   "cell_type": "markdown",
   "metadata": {},
   "source": [
    "### *In the next notebook we will refine our model*"
   ]
  }
 ],
 "metadata": {
  "kernelspec": {
   "display_name": "Python 3",
   "language": "python",
   "name": "python3"
  },
  "language_info": {
   "codemirror_mode": {
    "name": "ipython",
    "version": 3
   },
   "file_extension": ".py",
   "mimetype": "text/x-python",
   "name": "python",
   "nbconvert_exporter": "python",
   "pygments_lexer": "ipython3",
   "version": "3.7.4"
  }
 },
 "nbformat": 4,
 "nbformat_minor": 2
}
