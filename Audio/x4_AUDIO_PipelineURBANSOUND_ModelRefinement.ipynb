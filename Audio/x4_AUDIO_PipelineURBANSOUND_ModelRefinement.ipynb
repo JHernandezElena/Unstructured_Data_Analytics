{
 "cells": [
  {
   "cell_type": "markdown",
   "metadata": {},
   "source": [
    "# Classifying Urban sounds using Deep Learning\n",
    "\n",
    "## 4 Model Refinement "
   ]
  },
  {
   "cell_type": "markdown",
   "metadata": {},
   "source": [
    "### Load Preprocessed data "
   ]
  },
  {
   "cell_type": "code",
   "execution_count": 1,
   "metadata": {},
   "outputs": [],
   "source": [
    "# retrieve the preprocessed data from previous notebook\n",
    "\n",
    "%store -r x_train \n",
    "%store -r x_test \n",
    "%store -r y_train \n",
    "%store -r y_test \n",
    "%store -r yy \n",
    "%store -r le"
   ]
  },
  {
   "cell_type": "markdown",
   "metadata": {},
   "source": [
    "#### Model refinement\n",
    "\n",
    "In our inital attempt, we were able to achieve a Classification Accuracy score of: \n",
    "\n",
    "* Training data Accuracy:  92.3% \n",
    "* Testing data Accuracy:  87% \n",
    "\n",
    "We will now see if we can improve upon that score using a Convolutional Neural Network (CNN). "
   ]
  },
  {
   "cell_type": "markdown",
   "metadata": {},
   "source": [
    "#### Feature Extraction refinement \n",
    "\n",
    "In the prevous feature extraction stage, the MFCC vectors would vary in size for the different audio files (depending on the samples duration). \n",
    "\n",
    "However, CNNs require a fixed size for all inputs. To overcome this we will zero pad the output vectors to make them all the same size. "
   ]
  },
  {
   "cell_type": "code",
   "execution_count": 2,
   "metadata": {},
   "outputs": [],
   "source": [
    "import numpy as np\n",
    "max_pad_len = 174\n",
    "\n",
    "def extract_features(file_name):\n",
    "   \n",
    "    try:\n",
    "        audio, sample_rate = librosa.load(file_name, res_type='kaiser_fast') \n",
    "        mfccs = librosa.feature.mfcc(y=audio, sr=sample_rate, n_mfcc=40)\n",
    "        pad_width = max_pad_len - mfccs.shape[1]\n",
    "        mfccs = np.pad(mfccs, pad_width=((0, 0), (0, pad_width)), mode='constant')\n",
    "        \n",
    "    except Exception as e:\n",
    "        print(\"Error encountered while parsing file: \", file_name)\n",
    "        return None \n",
    "     \n",
    "    return mfccs"
   ]
  },
  {
   "cell_type": "code",
   "execution_count": 3,
   "metadata": {},
   "outputs": [
    {
     "name": "stdout",
     "output_type": "stream",
     "text": [
      "Finished feature extraction from  368  files\n"
     ]
    }
   ],
   "source": [
    "# Load various imports \n",
    "import pandas as pd\n",
    "import os\n",
    "import librosa\n",
    "\n",
    "# Set the path to the full UrbanSound dataset \n",
    "fulldatasetpath = 'P:/Documentos/ICAI/Clases/Analisis de Datos No Estructurados/Audio/data/UrbanSound8K/audio/'\n",
    "\n",
    "metadata = pd.read_csv('P:/Documentos/ICAI/Clases/Analisis de Datos No Estructurados/Audio/data/UrbanSound8K/metadata/UrbanSound8K3.csv')\n",
    "\n",
    "features = []\n",
    "\n",
    "# Iterate through each sound file and extract the features \n",
    "for index, row in metadata.iterrows():\n",
    "    \n",
    "    file_name = os.path.join(os.path.abspath(fulldatasetpath),'fold'+str(row[\"fold\"])+'/',str(row[\"slice_file_name\"]))\n",
    "    \n",
    "    class_label = row[\"class\"]\n",
    "    data = extract_features(file_name)\n",
    "    \n",
    "    features.append([data, class_label])\n",
    "\n",
    "# Convert into a Panda dataframe \n",
    "featuresdf = pd.DataFrame(features, columns=['feature','class_label'])\n",
    "\n",
    "print('Finished feature extraction from ', len(featuresdf), ' files') "
   ]
  },
  {
   "cell_type": "code",
   "execution_count": 4,
   "metadata": {},
   "outputs": [
    {
     "name": "stderr",
     "output_type": "stream",
     "text": [
      "Using TensorFlow backend.\n"
     ]
    }
   ],
   "source": [
    "from sklearn.preprocessing import LabelEncoder\n",
    "from keras.utils import to_categorical\n",
    "\n",
    "# Convert features and corresponding classification labels into numpy arrays\n",
    "X = np.array(featuresdf.feature.tolist())\n",
    "y = np.array(featuresdf.class_label.tolist())\n",
    "\n",
    "# Encode the classification labels\n",
    "le = LabelEncoder()\n",
    "yy = to_categorical(le.fit_transform(y)) \n",
    "\n",
    "# split the dataset \n",
    "from sklearn.model_selection import train_test_split \n",
    "\n",
    "x_train, x_test, y_train, y_test = train_test_split(X, yy, test_size=0.2, random_state = 42)"
   ]
  },
  {
   "cell_type": "markdown",
   "metadata": {},
   "source": [
    "### Convolutional Neural Network (CNN) model architecture \n",
    "\n",
    "\n",
    "We will modify our model to be a Convolutional Neural Network (CNN) again using Keras and a Tensorflow backend. \n",
    "\n",
    "Again we will use a `sequential` model, starting with a simple model architecture, consisting of four `Conv2D` convolution layers, with our final output layer being a `dense` layer. \n",
    "\n",
    "The convolution layers are designed for feature detection. It works by sliding a filter window over the input and performing a matrix multiplication and storing the result in a feature map. This operation is known as a convolution. \n",
    "\n",
    "\n",
    "The `filter` parameter specifies the number of nodes in each layer. Each layer will increase in size from 16, 32, 64 to 128, while the `kernel_size` parameter specifies the size of the kernel window which in this case is 2 resulting in a 2x2 filter matrix. \n",
    "\n",
    "The first layer will receive the input shape of (40, 174, 1) where 40 is the number of MFCC's 174 is the number of frames taking padding into account and the 1 signifying that the audio is mono. \n",
    "\n",
    "The activation function we will be using for our convolutional layers is `ReLU` which is the same as our previous model. We will use a smaller `Dropout` value of 20% on our convolutional layers. \n",
    "\n",
    "Each convolutional layer has an associated pooling layer of `MaxPooling2D` type with the final convolutional layer having a `GlobalAveragePooling2D` type. The pooling layer is do reduce the dimensionality of the model (by reducing the parameters and subsquent computation requirements) which serves to shorten the training time and reduce overfitting. The Max Pooling type takes the maximum size for each window and the Global Average Pooling type takes the average which is suitable for feeding into our `dense` output layer.  \n",
    "\n",
    "Our output layer will have 10 nodes (num_labels) which matches the number of possible classifications. The activation is for our output layer is `softmax`. Softmax makes the output sum up to 1 so the output can be interpreted as probabilities. The model will then make its prediction based on which option has the highest probability."
   ]
  },
  {
   "cell_type": "code",
   "execution_count": 5,
   "metadata": {},
   "outputs": [],
   "source": [
    "import numpy as np\n",
    "from keras.models import Sequential\n",
    "from keras.layers import Dense, Dropout, Activation, Flatten\n",
    "from keras.layers import Convolution2D, Conv2D, MaxPooling2D, GlobalAveragePooling2D\n",
    "from keras.optimizers import Adam\n",
    "from keras.utils import np_utils\n",
    "from sklearn import metrics \n",
    "\n",
    "num_rows = 40\n",
    "num_columns = 174\n",
    "num_channels = 1\n",
    "\n",
    "x_train = x_train.reshape(x_train.shape[0], num_rows, num_columns, num_channels)\n",
    "x_test = x_test.reshape(x_test.shape[0], num_rows, num_columns, num_channels)\n",
    "\n",
    "num_labels = yy.shape[1]\n",
    "filter_size = 2\n",
    "\n",
    "# Construct model \n",
    "model = Sequential()\n",
    "model.add(Conv2D(filters=16, kernel_size=2, input_shape=(num_rows, num_columns, num_channels), activation='relu'))\n",
    "model.add(MaxPooling2D(pool_size=2))\n",
    "model.add(Dropout(0.2))\n",
    "\n",
    "model.add(Conv2D(filters=32, kernel_size=2, activation='relu'))\n",
    "model.add(MaxPooling2D(pool_size=2))\n",
    "model.add(Dropout(0.2))\n",
    "\n",
    "model.add(Conv2D(filters=64, kernel_size=2, activation='relu'))\n",
    "model.add(MaxPooling2D(pool_size=2))\n",
    "model.add(Dropout(0.2))\n",
    "\n",
    "model.add(Conv2D(filters=128, kernel_size=2, activation='relu'))\n",
    "model.add(MaxPooling2D(pool_size=2))\n",
    "model.add(Dropout(0.2))\n",
    "model.add(GlobalAveragePooling2D())\n",
    "\n",
    "model.add(Dense(num_labels, activation='softmax')) "
   ]
  },
  {
   "cell_type": "markdown",
   "metadata": {},
   "source": [
    "### Compiling the model \n",
    "\n",
    "For compiling our model, we will use the same three parameters as the previous model: "
   ]
  },
  {
   "cell_type": "code",
   "execution_count": 6,
   "metadata": {},
   "outputs": [],
   "source": [
    "# Compile the model\n",
    "model.compile(loss='categorical_crossentropy', metrics=['accuracy'], optimizer='adam') "
   ]
  },
  {
   "cell_type": "code",
   "execution_count": 7,
   "metadata": {},
   "outputs": [
    {
     "name": "stdout",
     "output_type": "stream",
     "text": [
      "Model: \"sequential_1\"\n",
      "_________________________________________________________________\n",
      "Layer (type)                 Output Shape              Param #   \n",
      "=================================================================\n",
      "conv2d_1 (Conv2D)            (None, 39, 173, 16)       80        \n",
      "_________________________________________________________________\n",
      "max_pooling2d_1 (MaxPooling2 (None, 19, 86, 16)        0         \n",
      "_________________________________________________________________\n",
      "dropout_1 (Dropout)          (None, 19, 86, 16)        0         \n",
      "_________________________________________________________________\n",
      "conv2d_2 (Conv2D)            (None, 18, 85, 32)        2080      \n",
      "_________________________________________________________________\n",
      "max_pooling2d_2 (MaxPooling2 (None, 9, 42, 32)         0         \n",
      "_________________________________________________________________\n",
      "dropout_2 (Dropout)          (None, 9, 42, 32)         0         \n",
      "_________________________________________________________________\n",
      "conv2d_3 (Conv2D)            (None, 8, 41, 64)         8256      \n",
      "_________________________________________________________________\n",
      "max_pooling2d_3 (MaxPooling2 (None, 4, 20, 64)         0         \n",
      "_________________________________________________________________\n",
      "dropout_3 (Dropout)          (None, 4, 20, 64)         0         \n",
      "_________________________________________________________________\n",
      "conv2d_4 (Conv2D)            (None, 3, 19, 128)        32896     \n",
      "_________________________________________________________________\n",
      "max_pooling2d_4 (MaxPooling2 (None, 1, 9, 128)         0         \n",
      "_________________________________________________________________\n",
      "dropout_4 (Dropout)          (None, 1, 9, 128)         0         \n",
      "_________________________________________________________________\n",
      "global_average_pooling2d_1 ( (None, 128)               0         \n",
      "_________________________________________________________________\n",
      "dense_1 (Dense)              (None, 10)                1290      \n",
      "=================================================================\n",
      "Total params: 44,602\n",
      "Trainable params: 44,602\n",
      "Non-trainable params: 0\n",
      "_________________________________________________________________\n",
      "74/74 [==============================] - 0s 2ms/step\n",
      "Pre-training accuracy: 5.4054%\n"
     ]
    }
   ],
   "source": [
    "# Display model architecture summary \n",
    "model.summary()\n",
    "\n",
    "# Calculate pre-training accuracy \n",
    "score = model.evaluate(x_test, y_test, verbose=1)\n",
    "accuracy = 100*score[1]\n",
    "\n",
    "print(\"Pre-training accuracy: %.4f%%\" % accuracy)"
   ]
  },
  {
   "cell_type": "markdown",
   "metadata": {},
   "source": [
    "### Training \n",
    "\n",
    "Here we will train the model. As training a CNN can take a sigificant amount of time, we will start with a low number of epochs and a low batch size. If we can see from the output that the model is converging, we will increase both numbers.  "
   ]
  },
  {
   "cell_type": "code",
   "execution_count": 9,
   "metadata": {},
   "outputs": [
    {
     "name": "stdout",
     "output_type": "stream",
     "text": [
      "Train on 294 samples, validate on 74 samples\n",
      "Epoch 1/72\n",
      "294/294 [==============================] - 1s 2ms/step - loss: 7.2069 - accuracy: 0.2313 - val_loss: 3.1066 - val_accuracy: 0.2027\n",
      "\n",
      "Epoch 00001: val_loss improved from inf to 3.10662, saving model to P:/Documentos/ICAI/Clases/Analisis de Datos No Estructurados/Audio/data/saved_models/weights.best.basic_cnn.hdf5\n",
      "Epoch 2/72\n",
      "294/294 [==============================] - 1s 2ms/step - loss: 6.4910 - accuracy: 0.2075 - val_loss: 3.2721 - val_accuracy: 0.2973\n",
      "\n",
      "Epoch 00002: val_loss did not improve from 3.10662\n",
      "Epoch 3/72\n",
      "294/294 [==============================] - 1s 2ms/step - loss: 5.7597 - accuracy: 0.1531 - val_loss: 2.6758 - val_accuracy: 0.3108\n",
      "\n",
      "Epoch 00003: val_loss improved from 3.10662 to 2.67576, saving model to P:/Documentos/ICAI/Clases/Analisis de Datos No Estructurados/Audio/data/saved_models/weights.best.basic_cnn.hdf5\n",
      "Epoch 4/72\n",
      "294/294 [==============================] - 1s 2ms/step - loss: 4.4664 - accuracy: 0.2279 - val_loss: 2.2852 - val_accuracy: 0.2838\n",
      "\n",
      "Epoch 00004: val_loss improved from 2.67576 to 2.28524, saving model to P:/Documentos/ICAI/Clases/Analisis de Datos No Estructurados/Audio/data/saved_models/weights.best.basic_cnn.hdf5\n",
      "Epoch 5/72\n",
      "294/294 [==============================] - 1s 2ms/step - loss: 3.7794 - accuracy: 0.3027 - val_loss: 1.9223 - val_accuracy: 0.4189\n",
      "\n",
      "Epoch 00005: val_loss improved from 2.28524 to 1.92232, saving model to P:/Documentos/ICAI/Clases/Analisis de Datos No Estructurados/Audio/data/saved_models/weights.best.basic_cnn.hdf5\n",
      "Epoch 6/72\n",
      "294/294 [==============================] - 1s 2ms/step - loss: 2.9893 - accuracy: 0.3776 - val_loss: 1.7313 - val_accuracy: 0.4054\n",
      "\n",
      "Epoch 00006: val_loss improved from 1.92232 to 1.73130, saving model to P:/Documentos/ICAI/Clases/Analisis de Datos No Estructurados/Audio/data/saved_models/weights.best.basic_cnn.hdf5\n",
      "Epoch 7/72\n",
      "294/294 [==============================] - 1s 2ms/step - loss: 2.6267 - accuracy: 0.3367 - val_loss: 1.6091 - val_accuracy: 0.4730\n",
      "\n",
      "Epoch 00007: val_loss improved from 1.73130 to 1.60912, saving model to P:/Documentos/ICAI/Clases/Analisis de Datos No Estructurados/Audio/data/saved_models/weights.best.basic_cnn.hdf5\n",
      "Epoch 8/72\n",
      "294/294 [==============================] - 1s 2ms/step - loss: 2.3371 - accuracy: 0.4082 - val_loss: 1.5043 - val_accuracy: 0.5811\n",
      "\n",
      "Epoch 00008: val_loss improved from 1.60912 to 1.50434, saving model to P:/Documentos/ICAI/Clases/Analisis de Datos No Estructurados/Audio/data/saved_models/weights.best.basic_cnn.hdf5\n",
      "Epoch 9/72\n",
      "294/294 [==============================] - 1s 2ms/step - loss: 1.9001 - accuracy: 0.4422 - val_loss: 1.4765 - val_accuracy: 0.5676\n",
      "\n",
      "Epoch 00009: val_loss improved from 1.50434 to 1.47651, saving model to P:/Documentos/ICAI/Clases/Analisis de Datos No Estructurados/Audio/data/saved_models/weights.best.basic_cnn.hdf5\n",
      "Epoch 10/72\n",
      "294/294 [==============================] - 1s 2ms/step - loss: 1.6548 - accuracy: 0.4796 - val_loss: 1.5396 - val_accuracy: 0.5541\n",
      "\n",
      "Epoch 00010: val_loss did not improve from 1.47651\n",
      "Epoch 11/72\n",
      "294/294 [==============================] - 1s 2ms/step - loss: 1.5424 - accuracy: 0.4592 - val_loss: 1.6266 - val_accuracy: 0.5135\n",
      "\n",
      "Epoch 00011: val_loss did not improve from 1.47651\n",
      "Epoch 12/72\n",
      "294/294 [==============================] - 1s 2ms/step - loss: 1.3967 - accuracy: 0.5034 - val_loss: 1.6803 - val_accuracy: 0.3919\n",
      "\n",
      "Epoch 00012: val_loss did not improve from 1.47651\n",
      "Epoch 13/72\n",
      "294/294 [==============================] - 1s 2ms/step - loss: 1.3559 - accuracy: 0.4898 - val_loss: 1.6368 - val_accuracy: 0.3108\n",
      "\n",
      "Epoch 00013: val_loss did not improve from 1.47651\n",
      "Epoch 14/72\n",
      "294/294 [==============================] - 1s 2ms/step - loss: 1.3810 - accuracy: 0.4592 - val_loss: 1.5080 - val_accuracy: 0.5405\n",
      "\n",
      "Epoch 00014: val_loss did not improve from 1.47651\n",
      "Epoch 15/72\n",
      "294/294 [==============================] - 1s 2ms/step - loss: 1.2714 - accuracy: 0.5442 - val_loss: 1.3498 - val_accuracy: 0.6622\n",
      "\n",
      "Epoch 00015: val_loss improved from 1.47651 to 1.34984, saving model to P:/Documentos/ICAI/Clases/Analisis de Datos No Estructurados/Audio/data/saved_models/weights.best.basic_cnn.hdf5\n",
      "Epoch 16/72\n",
      "294/294 [==============================] - 1s 2ms/step - loss: 1.1479 - accuracy: 0.6224 - val_loss: 1.2204 - val_accuracy: 0.7703\n",
      "\n",
      "Epoch 00016: val_loss improved from 1.34984 to 1.22044, saving model to P:/Documentos/ICAI/Clases/Analisis de Datos No Estructurados/Audio/data/saved_models/weights.best.basic_cnn.hdf5\n",
      "Epoch 17/72\n",
      "294/294 [==============================] - 1s 2ms/step - loss: 1.0239 - accuracy: 0.6837 - val_loss: 1.1386 - val_accuracy: 0.8243\n",
      "\n",
      "Epoch 00017: val_loss improved from 1.22044 to 1.13855, saving model to P:/Documentos/ICAI/Clases/Analisis de Datos No Estructurados/Audio/data/saved_models/weights.best.basic_cnn.hdf5\n",
      "Epoch 18/72\n",
      "294/294 [==============================] - 1s 2ms/step - loss: 1.0541 - accuracy: 0.6837 - val_loss: 1.0912 - val_accuracy: 0.8378\n",
      "\n",
      "Epoch 00018: val_loss improved from 1.13855 to 1.09116, saving model to P:/Documentos/ICAI/Clases/Analisis de Datos No Estructurados/Audio/data/saved_models/weights.best.basic_cnn.hdf5\n",
      "Epoch 19/72\n",
      "294/294 [==============================] - 1s 2ms/step - loss: 1.0387 - accuracy: 0.6395 - val_loss: 1.0628 - val_accuracy: 0.8514\n",
      "\n",
      "Epoch 00019: val_loss improved from 1.09116 to 1.06284, saving model to P:/Documentos/ICAI/Clases/Analisis de Datos No Estructurados/Audio/data/saved_models/weights.best.basic_cnn.hdf5\n",
      "Epoch 20/72\n",
      "294/294 [==============================] - 1s 2ms/step - loss: 0.9310 - accuracy: 0.7381 - val_loss: 1.0454 - val_accuracy: 0.8784\n",
      "\n",
      "Epoch 00020: val_loss improved from 1.06284 to 1.04542, saving model to P:/Documentos/ICAI/Clases/Analisis de Datos No Estructurados/Audio/data/saved_models/weights.best.basic_cnn.hdf5\n",
      "Epoch 21/72\n",
      "294/294 [==============================] - 1s 2ms/step - loss: 0.8608 - accuracy: 0.7347 - val_loss: 1.0281 - val_accuracy: 0.8784\n",
      "\n",
      "Epoch 00021: val_loss improved from 1.04542 to 1.02809, saving model to P:/Documentos/ICAI/Clases/Analisis de Datos No Estructurados/Audio/data/saved_models/weights.best.basic_cnn.hdf5\n",
      "Epoch 22/72\n",
      "294/294 [==============================] - 1s 2ms/step - loss: 0.8276 - accuracy: 0.7381 - val_loss: 0.9959 - val_accuracy: 0.8784\n",
      "\n",
      "Epoch 00022: val_loss improved from 1.02809 to 0.99589, saving model to P:/Documentos/ICAI/Clases/Analisis de Datos No Estructurados/Audio/data/saved_models/weights.best.basic_cnn.hdf5\n",
      "Epoch 23/72\n",
      "294/294 [==============================] - 1s 2ms/step - loss: 0.7976 - accuracy: 0.7619 - val_loss: 0.9474 - val_accuracy: 0.8784\n",
      "\n",
      "Epoch 00023: val_loss improved from 0.99589 to 0.94735, saving model to P:/Documentos/ICAI/Clases/Analisis de Datos No Estructurados/Audio/data/saved_models/weights.best.basic_cnn.hdf5\n",
      "Epoch 24/72\n",
      "294/294 [==============================] - 1s 2ms/step - loss: 0.7821 - accuracy: 0.7755 - val_loss: 0.8860 - val_accuracy: 0.8919\n",
      "\n",
      "Epoch 00024: val_loss improved from 0.94735 to 0.88597, saving model to P:/Documentos/ICAI/Clases/Analisis de Datos No Estructurados/Audio/data/saved_models/weights.best.basic_cnn.hdf5\n",
      "Epoch 25/72\n",
      "294/294 [==============================] - 1s 2ms/step - loss: 0.7389 - accuracy: 0.7823 - val_loss: 0.8206 - val_accuracy: 0.8784\n",
      "\n",
      "Epoch 00025: val_loss improved from 0.88597 to 0.82057, saving model to P:/Documentos/ICAI/Clases/Analisis de Datos No Estructurados/Audio/data/saved_models/weights.best.basic_cnn.hdf5\n",
      "Epoch 26/72\n",
      "294/294 [==============================] - 1s 2ms/step - loss: 0.7525 - accuracy: 0.7959 - val_loss: 0.7701 - val_accuracy: 0.8784\n",
      "\n",
      "Epoch 00026: val_loss improved from 0.82057 to 0.77008, saving model to P:/Documentos/ICAI/Clases/Analisis de Datos No Estructurados/Audio/data/saved_models/weights.best.basic_cnn.hdf5\n",
      "Epoch 27/72\n",
      "294/294 [==============================] - 1s 2ms/step - loss: 0.7051 - accuracy: 0.8197 - val_loss: 0.7332 - val_accuracy: 0.8919\n",
      "\n",
      "Epoch 00027: val_loss improved from 0.77008 to 0.73317, saving model to P:/Documentos/ICAI/Clases/Analisis de Datos No Estructurados/Audio/data/saved_models/weights.best.basic_cnn.hdf5\n",
      "Epoch 28/72\n"
     ]
    },
    {
     "name": "stdout",
     "output_type": "stream",
     "text": [
      "294/294 [==============================] - 1s 2ms/step - loss: 0.6769 - accuracy: 0.7959 - val_loss: 0.7048 - val_accuracy: 0.9054\n",
      "\n",
      "Epoch 00028: val_loss improved from 0.73317 to 0.70481, saving model to P:/Documentos/ICAI/Clases/Analisis de Datos No Estructurados/Audio/data/saved_models/weights.best.basic_cnn.hdf5\n",
      "Epoch 29/72\n",
      "294/294 [==============================] - 1s 2ms/step - loss: 0.6559 - accuracy: 0.8027 - val_loss: 0.6799 - val_accuracy: 0.8919\n",
      "\n",
      "Epoch 00029: val_loss improved from 0.70481 to 0.67989, saving model to P:/Documentos/ICAI/Clases/Analisis de Datos No Estructurados/Audio/data/saved_models/weights.best.basic_cnn.hdf5\n",
      "Epoch 30/72\n",
      "294/294 [==============================] - 1s 2ms/step - loss: 0.5962 - accuracy: 0.7993 - val_loss: 0.6554 - val_accuracy: 0.8784\n",
      "\n",
      "Epoch 00030: val_loss improved from 0.67989 to 0.65536, saving model to P:/Documentos/ICAI/Clases/Analisis de Datos No Estructurados/Audio/data/saved_models/weights.best.basic_cnn.hdf5\n",
      "Epoch 31/72\n",
      "294/294 [==============================] - 1s 2ms/step - loss: 0.5897 - accuracy: 0.8197 - val_loss: 0.6335 - val_accuracy: 0.8784\n",
      "\n",
      "Epoch 00031: val_loss improved from 0.65536 to 0.63347, saving model to P:/Documentos/ICAI/Clases/Analisis de Datos No Estructurados/Audio/data/saved_models/weights.best.basic_cnn.hdf5\n",
      "Epoch 32/72\n",
      "294/294 [==============================] - 1s 2ms/step - loss: 0.5540 - accuracy: 0.8503 - val_loss: 0.6085 - val_accuracy: 0.8919\n",
      "\n",
      "Epoch 00032: val_loss improved from 0.63347 to 0.60850, saving model to P:/Documentos/ICAI/Clases/Analisis de Datos No Estructurados/Audio/data/saved_models/weights.best.basic_cnn.hdf5\n",
      "Epoch 33/72\n",
      "294/294 [==============================] - 1s 2ms/step - loss: 0.5999 - accuracy: 0.7993 - val_loss: 0.5919 - val_accuracy: 0.8919\n",
      "\n",
      "Epoch 00033: val_loss improved from 0.60850 to 0.59194, saving model to P:/Documentos/ICAI/Clases/Analisis de Datos No Estructurados/Audio/data/saved_models/weights.best.basic_cnn.hdf5\n",
      "Epoch 34/72\n",
      "294/294 [==============================] - 1s 2ms/step - loss: 0.5353 - accuracy: 0.8367 - val_loss: 0.5757 - val_accuracy: 0.8919\n",
      "\n",
      "Epoch 00034: val_loss improved from 0.59194 to 0.57572, saving model to P:/Documentos/ICAI/Clases/Analisis de Datos No Estructurados/Audio/data/saved_models/weights.best.basic_cnn.hdf5\n",
      "Epoch 35/72\n",
      "294/294 [==============================] - 1s 2ms/step - loss: 0.4975 - accuracy: 0.8503 - val_loss: 0.5474 - val_accuracy: 0.8919\n",
      "\n",
      "Epoch 00035: val_loss improved from 0.57572 to 0.54741, saving model to P:/Documentos/ICAI/Clases/Analisis de Datos No Estructurados/Audio/data/saved_models/weights.best.basic_cnn.hdf5\n",
      "Epoch 36/72\n",
      "294/294 [==============================] - 1s 2ms/step - loss: 0.5106 - accuracy: 0.8435 - val_loss: 0.5120 - val_accuracy: 0.9054\n",
      "\n",
      "Epoch 00036: val_loss improved from 0.54741 to 0.51204, saving model to P:/Documentos/ICAI/Clases/Analisis de Datos No Estructurados/Audio/data/saved_models/weights.best.basic_cnn.hdf5\n",
      "Epoch 37/72\n",
      "294/294 [==============================] - 1s 2ms/step - loss: 0.4902 - accuracy: 0.8435 - val_loss: 0.4749 - val_accuracy: 0.9054\n",
      "\n",
      "Epoch 00037: val_loss improved from 0.51204 to 0.47494, saving model to P:/Documentos/ICAI/Clases/Analisis de Datos No Estructurados/Audio/data/saved_models/weights.best.basic_cnn.hdf5\n",
      "Epoch 38/72\n",
      "294/294 [==============================] - 1s 2ms/step - loss: 0.4919 - accuracy: 0.8299 - val_loss: 0.4531 - val_accuracy: 0.8919\n",
      "\n",
      "Epoch 00038: val_loss improved from 0.47494 to 0.45310, saving model to P:/Documentos/ICAI/Clases/Analisis de Datos No Estructurados/Audio/data/saved_models/weights.best.basic_cnn.hdf5\n",
      "Epoch 39/72\n",
      "294/294 [==============================] - 1s 2ms/step - loss: 0.4642 - accuracy: 0.8605 - val_loss: 0.4441 - val_accuracy: 0.8919\n",
      "\n",
      "Epoch 00039: val_loss improved from 0.45310 to 0.44408, saving model to P:/Documentos/ICAI/Clases/Analisis de Datos No Estructurados/Audio/data/saved_models/weights.best.basic_cnn.hdf5\n",
      "Epoch 40/72\n",
      "294/294 [==============================] - 1s 2ms/step - loss: 0.4429 - accuracy: 0.8503 - val_loss: 0.4407 - val_accuracy: 0.8919\n",
      "\n",
      "Epoch 00040: val_loss improved from 0.44408 to 0.44072, saving model to P:/Documentos/ICAI/Clases/Analisis de Datos No Estructurados/Audio/data/saved_models/weights.best.basic_cnn.hdf5\n",
      "Epoch 41/72\n",
      "294/294 [==============================] - 1s 2ms/step - loss: 0.4523 - accuracy: 0.8299 - val_loss: 0.4366 - val_accuracy: 0.8919\n",
      "\n",
      "Epoch 00041: val_loss improved from 0.44072 to 0.43660, saving model to P:/Documentos/ICAI/Clases/Analisis de Datos No Estructurados/Audio/data/saved_models/weights.best.basic_cnn.hdf5\n",
      "Epoch 42/72\n",
      "294/294 [==============================] - 1s 2ms/step - loss: 0.4347 - accuracy: 0.8605 - val_loss: 0.4227 - val_accuracy: 0.9054\n",
      "\n",
      "Epoch 00042: val_loss improved from 0.43660 to 0.42271, saving model to P:/Documentos/ICAI/Clases/Analisis de Datos No Estructurados/Audio/data/saved_models/weights.best.basic_cnn.hdf5\n",
      "Epoch 43/72\n",
      "294/294 [==============================] - 1s 2ms/step - loss: 0.4370 - accuracy: 0.8810 - val_loss: 0.4059 - val_accuracy: 0.9189\n",
      "\n",
      "Epoch 00043: val_loss improved from 0.42271 to 0.40594, saving model to P:/Documentos/ICAI/Clases/Analisis de Datos No Estructurados/Audio/data/saved_models/weights.best.basic_cnn.hdf5\n",
      "Epoch 44/72\n",
      "294/294 [==============================] - 1s 2ms/step - loss: 0.3873 - accuracy: 0.8707 - val_loss: 0.3929 - val_accuracy: 0.9189\n",
      "\n",
      "Epoch 00044: val_loss improved from 0.40594 to 0.39291, saving model to P:/Documentos/ICAI/Clases/Analisis de Datos No Estructurados/Audio/data/saved_models/weights.best.basic_cnn.hdf5\n",
      "Epoch 45/72\n",
      "294/294 [==============================] - 1s 2ms/step - loss: 0.3498 - accuracy: 0.9014 - val_loss: 0.3750 - val_accuracy: 0.9054\n",
      "\n",
      "Epoch 00045: val_loss improved from 0.39291 to 0.37496, saving model to P:/Documentos/ICAI/Clases/Analisis de Datos No Estructurados/Audio/data/saved_models/weights.best.basic_cnn.hdf5\n",
      "Epoch 46/72\n",
      "294/294 [==============================] - 1s 2ms/step - loss: 0.3997 - accuracy: 0.8912 - val_loss: 0.3601 - val_accuracy: 0.9054\n",
      "\n",
      "Epoch 00046: val_loss improved from 0.37496 to 0.36009, saving model to P:/Documentos/ICAI/Clases/Analisis de Datos No Estructurados/Audio/data/saved_models/weights.best.basic_cnn.hdf5\n",
      "Epoch 47/72\n",
      "294/294 [==============================] - 1s 2ms/step - loss: 0.3981 - accuracy: 0.8537 - val_loss: 0.3525 - val_accuracy: 0.9054\n",
      "\n",
      "Epoch 00047: val_loss improved from 0.36009 to 0.35253, saving model to P:/Documentos/ICAI/Clases/Analisis de Datos No Estructurados/Audio/data/saved_models/weights.best.basic_cnn.hdf5\n",
      "Epoch 48/72\n",
      "294/294 [==============================] - 1s 2ms/step - loss: 0.3826 - accuracy: 0.8912 - val_loss: 0.3491 - val_accuracy: 0.9054\n",
      "\n",
      "Epoch 00048: val_loss improved from 0.35253 to 0.34908, saving model to P:/Documentos/ICAI/Clases/Analisis de Datos No Estructurados/Audio/data/saved_models/weights.best.basic_cnn.hdf5\n",
      "Epoch 49/72\n",
      "294/294 [==============================] - 1s 2ms/step - loss: 0.3161 - accuracy: 0.8980 - val_loss: 0.3653 - val_accuracy: 0.9189\n",
      "\n",
      "Epoch 00049: val_loss did not improve from 0.34908\n",
      "Epoch 50/72\n",
      "294/294 [==============================] - 1s 2ms/step - loss: 0.3598 - accuracy: 0.8946 - val_loss: 0.3637 - val_accuracy: 0.9189\n",
      "\n",
      "Epoch 00050: val_loss did not improve from 0.34908\n",
      "Epoch 51/72\n",
      "294/294 [==============================] - 1s 2ms/step - loss: 0.3592 - accuracy: 0.8912 - val_loss: 0.3368 - val_accuracy: 0.9054\n",
      "\n",
      "Epoch 00051: val_loss improved from 0.34908 to 0.33678, saving model to P:/Documentos/ICAI/Clases/Analisis de Datos No Estructurados/Audio/data/saved_models/weights.best.basic_cnn.hdf5\n",
      "Epoch 52/72\n",
      "294/294 [==============================] - 1s 3ms/step - loss: 0.3247 - accuracy: 0.8980 - val_loss: 0.3202 - val_accuracy: 0.9054\n",
      "\n",
      "Epoch 00052: val_loss improved from 0.33678 to 0.32016, saving model to P:/Documentos/ICAI/Clases/Analisis de Datos No Estructurados/Audio/data/saved_models/weights.best.basic_cnn.hdf5\n",
      "Epoch 53/72\n",
      "294/294 [==============================] - 1s 2ms/step - loss: 0.3186 - accuracy: 0.9048 - val_loss: 0.3149 - val_accuracy: 0.9054\n",
      "\n",
      "Epoch 00053: val_loss improved from 0.32016 to 0.31493, saving model to P:/Documentos/ICAI/Clases/Analisis de Datos No Estructurados/Audio/data/saved_models/weights.best.basic_cnn.hdf5\n"
     ]
    },
    {
     "name": "stdout",
     "output_type": "stream",
     "text": [
      "Epoch 54/72\n",
      "294/294 [==============================] - 1s 2ms/step - loss: 0.3018 - accuracy: 0.8912 - val_loss: 0.3094 - val_accuracy: 0.9189\n",
      "\n",
      "Epoch 00054: val_loss improved from 0.31493 to 0.30938, saving model to P:/Documentos/ICAI/Clases/Analisis de Datos No Estructurados/Audio/data/saved_models/weights.best.basic_cnn.hdf5\n",
      "Epoch 55/72\n",
      "294/294 [==============================] - 1s 3ms/step - loss: 0.2914 - accuracy: 0.9116 - val_loss: 0.3047 - val_accuracy: 0.9054\n",
      "\n",
      "Epoch 00055: val_loss improved from 0.30938 to 0.30471, saving model to P:/Documentos/ICAI/Clases/Analisis de Datos No Estructurados/Audio/data/saved_models/weights.best.basic_cnn.hdf5\n",
      "Epoch 56/72\n",
      "294/294 [==============================] - 1s 3ms/step - loss: 0.3180 - accuracy: 0.8980 - val_loss: 0.2963 - val_accuracy: 0.9324\n",
      "\n",
      "Epoch 00056: val_loss improved from 0.30471 to 0.29626, saving model to P:/Documentos/ICAI/Clases/Analisis de Datos No Estructurados/Audio/data/saved_models/weights.best.basic_cnn.hdf5\n",
      "Epoch 57/72\n",
      "294/294 [==============================] - 1s 3ms/step - loss: 0.2962 - accuracy: 0.9082 - val_loss: 0.2846 - val_accuracy: 0.9324\n",
      "\n",
      "Epoch 00057: val_loss improved from 0.29626 to 0.28458, saving model to P:/Documentos/ICAI/Clases/Analisis de Datos No Estructurados/Audio/data/saved_models/weights.best.basic_cnn.hdf5\n",
      "Epoch 58/72\n",
      "294/294 [==============================] - 1s 3ms/step - loss: 0.3067 - accuracy: 0.9048 - val_loss: 0.2784 - val_accuracy: 0.9324\n",
      "\n",
      "Epoch 00058: val_loss improved from 0.28458 to 0.27841, saving model to P:/Documentos/ICAI/Clases/Analisis de Datos No Estructurados/Audio/data/saved_models/weights.best.basic_cnn.hdf5\n",
      "Epoch 59/72\n",
      "294/294 [==============================] - 1s 2ms/step - loss: 0.2788 - accuracy: 0.9252 - val_loss: 0.2784 - val_accuracy: 0.9595\n",
      "\n",
      "Epoch 00059: val_loss did not improve from 0.27841\n",
      "Epoch 60/72\n",
      "294/294 [==============================] - 1s 2ms/step - loss: 0.2882 - accuracy: 0.9286 - val_loss: 0.2749 - val_accuracy: 0.9459\n",
      "\n",
      "Epoch 00060: val_loss improved from 0.27841 to 0.27489, saving model to P:/Documentos/ICAI/Clases/Analisis de Datos No Estructurados/Audio/data/saved_models/weights.best.basic_cnn.hdf5\n",
      "Epoch 61/72\n",
      "294/294 [==============================] - 1s 2ms/step - loss: 0.2727 - accuracy: 0.9320 - val_loss: 0.2689 - val_accuracy: 0.9324\n",
      "\n",
      "Epoch 00061: val_loss improved from 0.27489 to 0.26892, saving model to P:/Documentos/ICAI/Clases/Analisis de Datos No Estructurados/Audio/data/saved_models/weights.best.basic_cnn.hdf5\n",
      "Epoch 62/72\n",
      "294/294 [==============================] - 1s 3ms/step - loss: 0.2784 - accuracy: 0.9218 - val_loss: 0.2621 - val_accuracy: 0.9189\n",
      "\n",
      "Epoch 00062: val_loss improved from 0.26892 to 0.26214, saving model to P:/Documentos/ICAI/Clases/Analisis de Datos No Estructurados/Audio/data/saved_models/weights.best.basic_cnn.hdf5\n",
      "Epoch 63/72\n",
      "294/294 [==============================] - 1s 2ms/step - loss: 0.2191 - accuracy: 0.9592 - val_loss: 0.2592 - val_accuracy: 0.9324\n",
      "\n",
      "Epoch 00063: val_loss improved from 0.26214 to 0.25925, saving model to P:/Documentos/ICAI/Clases/Analisis de Datos No Estructurados/Audio/data/saved_models/weights.best.basic_cnn.hdf5\n",
      "Epoch 64/72\n",
      "294/294 [==============================] - 1s 2ms/step - loss: 0.2539 - accuracy: 0.9286 - val_loss: 0.2545 - val_accuracy: 0.9324\n",
      "\n",
      "Epoch 00064: val_loss improved from 0.25925 to 0.25446, saving model to P:/Documentos/ICAI/Clases/Analisis de Datos No Estructurados/Audio/data/saved_models/weights.best.basic_cnn.hdf5\n",
      "Epoch 65/72\n",
      "294/294 [==============================] - 1s 2ms/step - loss: 0.2825 - accuracy: 0.9184 - val_loss: 0.2430 - val_accuracy: 0.9324\n",
      "\n",
      "Epoch 00065: val_loss improved from 0.25446 to 0.24296, saving model to P:/Documentos/ICAI/Clases/Analisis de Datos No Estructurados/Audio/data/saved_models/weights.best.basic_cnn.hdf5\n",
      "Epoch 66/72\n",
      "294/294 [==============================] - 1s 2ms/step - loss: 0.2695 - accuracy: 0.9082 - val_loss: 0.2333 - val_accuracy: 0.9324\n",
      "\n",
      "Epoch 00066: val_loss improved from 0.24296 to 0.23333, saving model to P:/Documentos/ICAI/Clases/Analisis de Datos No Estructurados/Audio/data/saved_models/weights.best.basic_cnn.hdf5\n",
      "Epoch 67/72\n",
      "294/294 [==============================] - 1s 2ms/step - loss: 0.2339 - accuracy: 0.9388 - val_loss: 0.2302 - val_accuracy: 0.9054\n",
      "\n",
      "Epoch 00067: val_loss improved from 0.23333 to 0.23023, saving model to P:/Documentos/ICAI/Clases/Analisis de Datos No Estructurados/Audio/data/saved_models/weights.best.basic_cnn.hdf5\n",
      "Epoch 68/72\n",
      "294/294 [==============================] - 1s 2ms/step - loss: 0.2111 - accuracy: 0.9320 - val_loss: 0.2352 - val_accuracy: 0.9459\n",
      "\n",
      "Epoch 00068: val_loss did not improve from 0.23023\n",
      "Epoch 69/72\n",
      "294/294 [==============================] - 1s 2ms/step - loss: 0.2338 - accuracy: 0.9184 - val_loss: 0.2489 - val_accuracy: 0.9459\n",
      "\n",
      "Epoch 00069: val_loss did not improve from 0.23023\n",
      "Epoch 70/72\n",
      "294/294 [==============================] - 1s 2ms/step - loss: 0.2198 - accuracy: 0.9354 - val_loss: 0.2604 - val_accuracy: 0.9189\n",
      "\n",
      "Epoch 00070: val_loss did not improve from 0.23023\n",
      "Epoch 71/72\n",
      "294/294 [==============================] - 1s 2ms/step - loss: 0.2361 - accuracy: 0.9490 - val_loss: 0.2420 - val_accuracy: 0.9324\n",
      "\n",
      "Epoch 00071: val_loss did not improve from 0.23023\n",
      "Epoch 72/72\n",
      "294/294 [==============================] - 1s 2ms/step - loss: 0.2237 - accuracy: 0.9252 - val_loss: 0.2234 - val_accuracy: 0.9324\n",
      "\n",
      "Epoch 00072: val_loss improved from 0.23023 to 0.22339, saving model to P:/Documentos/ICAI/Clases/Analisis de Datos No Estructurados/Audio/data/saved_models/weights.best.basic_cnn.hdf5\n",
      "Training completed in time:  0:00:50.451012\n"
     ]
    }
   ],
   "source": [
    "from keras.callbacks import ModelCheckpoint \n",
    "from datetime import datetime \n",
    "\n",
    "#num_epochs = 12\n",
    "#num_batch_size = 128\n",
    "\n",
    "num_epochs = 72\n",
    "num_batch_size = 256\n",
    "\n",
    "checkpointer = ModelCheckpoint(filepath= 'P:/Documentos/ICAI/Clases/Analisis de Datos No Estructurados/Audio/data/saved_models/weights.best.basic_cnn.hdf5', \n",
    "                               verbose=1, save_best_only=True)\n",
    "start = datetime.now()\n",
    "\n",
    "model.fit(x_train, y_train, batch_size=num_batch_size, epochs=num_epochs, validation_data=(x_test, y_test), callbacks=[checkpointer], verbose=1)\n",
    "\n",
    "\n",
    "duration = datetime.now() - start\n",
    "print(\"Training completed in time: \", duration)"
   ]
  },
  {
   "cell_type": "markdown",
   "metadata": {},
   "source": [
    "### Test the model \n",
    "\n",
    "Here we will review the accuracy of the model on both the training and test data sets. "
   ]
  },
  {
   "cell_type": "code",
   "execution_count": 10,
   "metadata": {},
   "outputs": [
    {
     "name": "stdout",
     "output_type": "stream",
     "text": [
      "Training Accuracy:  0.942176878452301\n",
      "Testing Accuracy:  0.9324324131011963\n"
     ]
    }
   ],
   "source": [
    "# Evaluating the model on the training and testing set\n",
    "score = model.evaluate(x_train, y_train, verbose=0)\n",
    "print(\"Training Accuracy: \", score[1])\n",
    "\n",
    "score = model.evaluate(x_test, y_test, verbose=0)\n",
    "print(\"Testing Accuracy: \", score[1])"
   ]
  },
  {
   "cell_type": "markdown",
   "metadata": {},
   "source": [
    "The Training and Testing accuracy scores are both high and an increase on our initial model. Training accuracy has increased by ~6% and Testing accuracy has increased by ~4%. \n",
    "\n",
    "There is a marginal increase in the difference between the Training and Test scores (~6% compared to ~5% previously) though the difference remains low so the model has not suffered from overfitting. "
   ]
  },
  {
   "cell_type": "markdown",
   "metadata": {},
   "source": [
    "### Predictions  \n",
    "\n",
    "Here we will modify our previous method for testing the models predictions on a specified audio .wav file. "
   ]
  },
  {
   "cell_type": "code",
   "execution_count": 11,
   "metadata": {},
   "outputs": [],
   "source": [
    "def print_prediction(file_name):\n",
    "    prediction_feature = extract_features(file_name) \n",
    "    prediction_feature = prediction_feature.reshape(1, num_rows, num_columns, num_channels)\n",
    "\n",
    "    predicted_vector = model.predict_classes(prediction_feature)\n",
    "    predicted_class = le.inverse_transform(predicted_vector) \n",
    "    print(\"The predicted class is:\", predicted_class[0], '\\n') \n",
    "\n",
    "    predicted_proba_vector = model.predict_proba(prediction_feature) \n",
    "    predicted_proba = predicted_proba_vector[0]\n",
    "    for i in range(len(predicted_proba)): \n",
    "        category = le.inverse_transform(np.array([i]))\n",
    "        print(category[0], \"\\t\\t : \", format(predicted_proba[i], '.32f') )"
   ]
  },
  {
   "cell_type": "markdown",
   "metadata": {},
   "source": [
    "### Validation \n",
    "\n",
    "#### Test with sample data \n",
    "\n",
    "As before we will verify the predictions using a subsection of the sample audio files we explored in the first notebook. We expect the bulk of these to be classified correctly. "
   ]
  },
  {
   "cell_type": "code",
   "execution_count": 13,
   "metadata": {},
   "outputs": [],
   "source": [
    "ruta = 'P:/Documentos/ICAI/Clases/Analisis de Datos No Estructurados/Audio/data/'"
   ]
  },
  {
   "cell_type": "code",
   "execution_count": 14,
   "metadata": {},
   "outputs": [
    {
     "name": "stdout",
     "output_type": "stream",
     "text": [
      "The predicted class is: air_conditioner \n",
      "\n",
      "air_conditioner \t\t :  0.98223972320556640625000000000000\n",
      "car_horn \t\t :  0.00001567459548823535442352294922\n",
      "children_playing \t\t :  0.00104265159461647272109985351562\n",
      "dog_bark \t\t :  0.00026860044454224407672882080078\n",
      "drilling \t\t :  0.01383300684392452239990234375000\n",
      "engine_idling \t\t :  0.00139033806044608354568481445312\n",
      "gun_shot \t\t :  0.00007466073293471708893775939941\n",
      "jackhammer \t\t :  0.00102835637517273426055908203125\n",
      "siren \t\t :  0.00007832941628294065594673156738\n",
      "street_music \t\t :  0.00002857365507225040346384048462\n"
     ]
    }
   ],
   "source": [
    "# Class: Air Conditioner\n",
    "\n",
    "filename = ruta + 'UrbanSound8K/audio/fold5/100852-0-0-0.wav' \n",
    "print_prediction(filename) "
   ]
  },
  {
   "cell_type": "code",
   "execution_count": 15,
   "metadata": {
    "scrolled": true
   },
   "outputs": [
    {
     "name": "stdout",
     "output_type": "stream",
     "text": [
      "The predicted class is: drilling \n",
      "\n",
      "air_conditioner \t\t :  0.00003229550202377140522003173828\n",
      "car_horn \t\t :  0.00028092006687074899673461914062\n",
      "children_playing \t\t :  0.01506318524479866027832031250000\n",
      "dog_bark \t\t :  0.00349804782308638095855712890625\n",
      "drilling \t\t :  0.98062390089035034179687500000000\n",
      "engine_idling \t\t :  0.00000000937647115506479167379439\n",
      "gun_shot \t\t :  0.00002519226109143346548080444336\n",
      "jackhammer \t\t :  0.00000629935084361932240426540375\n",
      "siren \t\t :  0.00036320960498414933681488037109\n",
      "street_music \t\t :  0.00010688097245292738080024719238\n"
     ]
    }
   ],
   "source": [
    "# Class: Drilling\n",
    "\n",
    "filename = ruta + 'UrbanSound8K/audio/fold3/103199-4-0-0.wav'\n",
    "print_prediction(filename) "
   ]
  },
  {
   "cell_type": "code",
   "execution_count": 16,
   "metadata": {},
   "outputs": [
    {
     "name": "stdout",
     "output_type": "stream",
     "text": [
      "The predicted class is: street_music \n",
      "\n",
      "air_conditioner \t\t :  0.00002097810283885337412357330322\n",
      "car_horn \t\t :  0.00769456196576356887817382812500\n",
      "children_playing \t\t :  0.00344579387456178665161132812500\n",
      "dog_bark \t\t :  0.00024308456340804696083068847656\n",
      "drilling \t\t :  0.00010798596485983580350875854492\n",
      "engine_idling \t\t :  0.00731206079944968223571777343750\n",
      "gun_shot \t\t :  0.00038480089278891682624816894531\n",
      "jackhammer \t\t :  0.00155758636537939310073852539062\n",
      "siren \t\t :  0.14077284932136535644531250000000\n",
      "street_music \t\t :  0.83846026659011840820312500000000\n"
     ]
    }
   ],
   "source": [
    "# Class: Street music \n",
    "\n",
    "filename = ruta + 'UrbanSound8K/audio/fold7/101848-9-0-0.wav'\n",
    "print_prediction(filename) "
   ]
  },
  {
   "cell_type": "code",
   "execution_count": 17,
   "metadata": {},
   "outputs": [
    {
     "name": "stdout",
     "output_type": "stream",
     "text": [
      "The predicted class is: children_playing \n",
      "\n",
      "air_conditioner \t\t :  0.02111194841563701629638671875000\n",
      "car_horn \t\t :  0.16520559787750244140625000000000\n",
      "children_playing \t\t :  0.17696383595466613769531250000000\n",
      "dog_bark \t\t :  0.16060802340507507324218750000000\n",
      "drilling \t\t :  0.10536871850490570068359375000000\n",
      "engine_idling \t\t :  0.02429792843759059906005859375000\n",
      "gun_shot \t\t :  0.04094675555825233459472656250000\n",
      "jackhammer \t\t :  0.03399929031729698181152343750000\n",
      "siren \t\t :  0.13256213068962097167968750000000\n",
      "street_music \t\t :  0.13893574476242065429687500000000\n"
     ]
    }
   ],
   "source": [
    "# Class: Car Horn \n",
    "\n",
    "filename = ruta + 'UrbanSound8K/audio/fold10/100648-1-0-0.wav'\n",
    "print_prediction(filename) "
   ]
  },
  {
   "cell_type": "markdown",
   "metadata": {},
   "source": [
    "#### Observations \n",
    "\n",
    "We can see that the model performs well. \n",
    "\n",
    "Interestingly, car horn was again incorrectly classifed but this time as drilling - though the per class confidence shows it was a close decision between car horn with 26% confidence and drilling at 34% confidence.  "
   ]
  },
  {
   "cell_type": "markdown",
   "metadata": {},
   "source": [
    "### Other audio\n",
    "\n",
    "Again we will further validate our model using a sample of various copyright free sounds that we not part of either our test or training data. "
   ]
  },
  {
   "cell_type": "code",
   "execution_count": 18,
   "metadata": {},
   "outputs": [
    {
     "name": "stdout",
     "output_type": "stream",
     "text": [
      "The predicted class is: dog_bark \n",
      "\n",
      "air_conditioner \t\t :  0.02156988903880119323730468750000\n",
      "car_horn \t\t :  0.02986512705683708190917968750000\n",
      "children_playing \t\t :  0.11962341517210006713867187500000\n",
      "dog_bark \t\t :  0.59253251552581787109375000000000\n",
      "drilling \t\t :  0.04573479667305946350097656250000\n",
      "engine_idling \t\t :  0.00381804117932915687561035156250\n",
      "gun_shot \t\t :  0.06662539392709732055664062500000\n",
      "jackhammer \t\t :  0.00698739103972911834716796875000\n",
      "siren \t\t :  0.03585373982787132263183593750000\n",
      "street_music \t\t :  0.07738970220088958740234375000000\n"
     ]
    }
   ],
   "source": [
    "filename = ruta + 'Evaluation audio/dog_bark_1.wav'\n",
    "print_prediction(filename) "
   ]
  },
  {
   "cell_type": "code",
   "execution_count": 20,
   "metadata": {
    "scrolled": true
   },
   "outputs": [
    {
     "name": "stdout",
     "output_type": "stream",
     "text": [
      "The predicted class is: air_conditioner \n",
      "\n",
      "air_conditioner \t\t :  0.79560840129852294921875000000000\n",
      "car_horn \t\t :  0.00033518570126034319400787353516\n",
      "children_playing \t\t :  0.02056717872619628906250000000000\n",
      "dog_bark \t\t :  0.00510859349742531776428222656250\n",
      "drilling \t\t :  0.01514675375074148178100585937500\n",
      "engine_idling \t\t :  0.14320786297321319580078125000000\n",
      "gun_shot \t\t :  0.00267864577472209930419921875000\n",
      "jackhammer \t\t :  0.01289335545152425765991210937500\n",
      "siren \t\t :  0.00148829480167478322982788085938\n",
      "street_music \t\t :  0.00296570919454097747802734375000\n"
     ]
    }
   ],
   "source": [
    "filename = ruta + 'Evaluation audio/drilling_1.wav'\n",
    "\n",
    "print_prediction(filename) "
   ]
  },
  {
   "cell_type": "code",
   "execution_count": 21,
   "metadata": {},
   "outputs": [
    {
     "name": "stdout",
     "output_type": "stream",
     "text": [
      "The predicted class is: street_music \n",
      "\n",
      "air_conditioner \t\t :  0.01558687072247266769409179687500\n",
      "car_horn \t\t :  0.00148262560833245515823364257812\n",
      "children_playing \t\t :  0.03005218878388404846191406250000\n",
      "dog_bark \t\t :  0.21456053853034973144531250000000\n",
      "drilling \t\t :  0.00009535325079923495650291442871\n",
      "engine_idling \t\t :  0.31208619475364685058593750000000\n",
      "gun_shot \t\t :  0.05465753003954887390136718750000\n",
      "jackhammer \t\t :  0.00021866557653993368148803710938\n",
      "siren \t\t :  0.00922765210270881652832031250000\n",
      "street_music \t\t :  0.36203235387802124023437500000000\n"
     ]
    }
   ],
   "source": [
    "filename = ruta + 'Evaluation audio/gun_shot_1.wav'\n",
    "\n",
    "print_prediction(filename) \n"
   ]
  },
  {
   "cell_type": "markdown",
   "metadata": {},
   "source": [
    "#### Observations \n",
    "\n",
    "The performance of our final model is very good and has generalised well, seeming to predict well when tested against new audio data. "
   ]
  }
 ],
 "metadata": {
  "kernelspec": {
   "display_name": "Python 3",
   "language": "python",
   "name": "python3"
  },
  "language_info": {
   "codemirror_mode": {
    "name": "ipython",
    "version": 3
   },
   "file_extension": ".py",
   "mimetype": "text/x-python",
   "name": "python",
   "nbconvert_exporter": "python",
   "pygments_lexer": "ipython3",
   "version": "3.7.4"
  }
 },
 "nbformat": 4,
 "nbformat_minor": 2
}
