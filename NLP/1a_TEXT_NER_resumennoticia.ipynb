{
 "cells": [
  {
   "cell_type": "code",
   "execution_count": 17,
   "metadata": {},
   "outputs": [
    {
     "name": "stdout",
     "output_type": "stream",
     "text": [
      "(0, 9, 9, 4, 1.4444444444444444, 'Trump Sought a Loan During the 2016 Campaign.')\n",
      "(1, 5, 3, 4, 1.4, 'Deutsche Bank Said No.')\n",
      "(2, 12, 11, 7, 1.5, 'Donald J. Trump was burning through cash ICAI in Los Angeles.')\n",
      "(3, 36, 35, 5, 1.1111111111111112, 'It was early 2016, and he was lending tens of millions of dollars to his presidential campaign and had been spending large sums to expand the Trump Organization’s roster of high-end properties.')\n",
      "(4, 78, 75, 24, 1.2692307692307692, 'To finance his business’s growth, Mr. Trump turned to a longtime ally, Deutsche Bank, one of the few banks still willing to lend money to the man who has called himself “The King of Debt.”\\n\\nMr. Trump’s loan request, which has not been previously reported, set off a fight that reached the top of the German bank, according to three people familiar with the request.')\n",
      "(5, 10, 9, 4, 1.3, 'In the end, Deutsche Bank did something unexpected.')\n",
      "(6, 4, 4, 0, 1.0, 'It said no.')\n",
      "(7, 31, 30, 9, 1.2580645161290323, 'Senior officials at the bank, including its future chief executive, believed that Mr. Trump’s divisive candidacy made such a loan too risky, the people said.')\n",
      "(8, 39, 36, 8, 1.1282051282051282, 'Among their concerns was that if Mr. Trump won the election and then defaulted, Deutsche Bank would have to choose between not collecting on the debt or seizing the assets of the president of the United States.')\n",
      "(9, 35, 34, 11, 1.2857142857142858, 'Two of the people familiar with the loan request said the Trump Organization had been seeking to borrow against its Miami resort to pay for work on a golf property in Turnberry, Scotland.')\n",
      "(10, 19, 17, 8, 1.3157894736842106, 'A Trump Organization spokeswoman, Amanda Miller, denied that the company had needed outside funding for Turnberry.')\n",
      "(11, 7, 7, 0, 1.0, 'You have 3 free articles remaining.')\n",
      "(12, 16, 16, 6, 1.375, 'Subscribe to The Times\\n\\n“This story is absolutely false,” Ms. Miller said.')\n",
      "(13, 28, 27, 6, 1.1785714285714286, '“We bought Trump Turnberry without any financing and put tens of millions of dollars of our own money into the renovation, which began in 2014.')\n",
      "(14, 35, 33, 12, 1.2857142857142858, 'At no time was any money needed to finance the purchase or the refurbishment of Trump Turnberry.”\\n\\nShe did not specifically address whether the Trump Organization had sought a loan from Deutsche Bank.')\n",
      "(15, 12, 11, 5, 1.3333333333333333, 'Troy Gravitt, a Deutsche Bank spokesman, declined to comment.')\n",
      "(16, 22, 21, 10, 1.4090909090909092, 'The failed loan request is an untold chapter in Mr. Trump’s long and tortured relationship with the banking industry.')\n",
      "(17, 42, 41, 8, 1.1666666666666667, 'It shows that he was actively engaged in running his business in the midst of the presidential campaign, and it is likely to attract scrutiny from Democrats on two House committees that are investigating his two-decade relationship with Deutsche Bank.')\n",
      "(18, 32, 30, 8, 1.1875, 'In the early 1990s, Mr. Trump’s hotel and casino properties declared bankruptcy four times, leaving prominent banks, including Citicorp and Manufacturers Hanover, with painful losses.')\n",
      "(19, 12, 11, 4, 1.25, 'The real estate mogul was all but excommunicated from Wall Street.')\n",
      "(20, 30, 30, 7, 1.2333333333333334, 'Deutsche Bank, which was eager to gain a foothold in the lucrative American market and more tolerant of risk than many of its rivals, filled the void.')\n",
      "(21, 18, 16, 5, 1.1666666666666667, 'In 1998, it lent Mr. Trump $125 million for renovations on a Wall Street skyscraper.')\n",
      "(22, 31, 29, 5, 1.096774193548387, 'The relationship blossomed, and over the next 17 years, Deutsche Bank lent or participated in loans to Mr. Trump and his companies totaling more than $2.5 billion.')\n",
      "(23, 28, 27, 6, 1.1785714285714286, 'Then, just as the first votes were being cast in the Republican presidential primaries, Mr. Trump’s lender of last resort got cold feet.')\n",
      "(24, 16, 15, 8, 1.4375, 'The funding of Mr. Trump’s golf empire has been something of a mystery.')\n",
      "(25, 33, 32, 9, 1.2424242424242424, 'In the decade before he was elected president, Mr. Trump’s company spent hundreds of millions of dollars buying or renovating about a dozen clubs and resorts around the world.')\n",
      "(26, 31, 29, 8, 1.1935483870967742, 'Despite Mr. Trump’s self-proclaimed fondness for relying on debt, the Trump Organization has reported that it used its own money for most of the acquisitions and upgrades.')\n",
      "(27, 32, 30, 13, 1.34375, 'A prominent golf journalist, James Dodson, said Mr. Trump’s son Eric had told him in 2013 that the company’s golf properties were funded by Russians.')\n",
      "(28, 8, 8, 3, 1.375, 'Eric Trump has denied making the comment.')\n",
      "(29, 12, 12, 4, 1.3333333333333333, 'Mr. Trump did borrow money for some of his golf properties.')\n",
      "(30, 34, 31, 12, 1.2647058823529411, 'In 2012, Deutsche Bank lent the Trump Organization a total of more than $100 million to finance the 72-hole Doral resort near Miami, home to the famed Blue Monster course.')\n"
     ]
    }
   ],
   "source": [
    "import nltk\n",
    "import sys\n",
    "f=open('news.txt', 'r') #LEO UNA NOTICIA\n",
    "news_content=f.read()\n",
    "\n",
    "results=[]\n",
    "\n",
    "#PARA CADA PAR (NUMERO, SENTENCE) EN UNA NOTICIA\n",
    "for sent_no,sentence in enumerate(nltk.sent_tokenize(news_content)): #TOKENIZA POR SENTENCE \n",
    "    no_of_tokens=len(nltk.word_tokenize(sentence)) #cuenta el numero de words en cada sentence\n",
    "    \n",
    "    # Let's do POS tagging\n",
    "    tagged=nltk.pos_tag(nltk.word_tokenize(sentence)) #hace el POS de cada word en cada sentence (SI ES NOMBRE, VERBO...)\n",
    "    \n",
    "    # Count the no of Nouns in the sentence\n",
    "    no_of_nouns=len([word for word,pos in tagged if pos in [\"NN\",\"NNP\"] ])\n",
    "    \n",
    "    #Use NER to tag the named entities.\n",
    "    ners=nltk.ne_chunk(nltk.pos_tag(nltk.word_tokenize(sentence)), binary=False) \n",
    "            #de cada uno de los tokens el ne_chunk coge la entudad y lo que hay alrededor\n",
    "            #hago el tag de los NER\n",
    "    \n",
    "    no_of_ners= len(ners) #calculo el numero de entidades que tiene esa frase y establezco una metrica (score)\n",
    "    \n",
    "    #CALCULO UN SCORE\n",
    "    score=((no_of_ners+no_of_nouns)/float(no_of_tokens))\n",
    "    \n",
    "    results.append((sent_no,no_of_tokens,no_of_ners,no_of_nouns,score,sentence))\n",
    "    \n",
    "    print((sent_no,no_of_tokens,no_of_ners,no_of_nouns,score,sentence))\n",
    "       "
   ]
  },
  {
   "cell_type": "code",
   "execution_count": 19,
   "metadata": {},
   "outputs": [
    {
     "name": "stdout",
     "output_type": "stream",
     "text": [
      "Resumen:\n",
      "Donald J. Trump was burning through cash ICAI in Los Angeles.\n",
      "Trump Sought a Loan During the 2016 Campaign.\n",
      "The funding of Mr. Trump’s golf empire has been something of a mystery.\n",
      "The failed loan request is an untold chapter in Mr. Trump’s long and tortured relationship with the banking industry.\n",
      "Deutsche Bank Said No.\n",
      "Subscribe to The Times\n",
      "\n",
      "“This story is absolutely false,” Ms. Miller said.\n",
      "Eric Trump has denied making the comment.\n",
      "A prominent golf journalist, James Dodson, said Mr. Trump’s son Eric had told him in 2013 that the company’s golf properties were funded by Russians.\n",
      "Troy Gravitt, a Deutsche Bank spokesman, declined to comment.\n",
      "Mr. Trump did borrow money for some of his golf properties.\n",
      "A Trump Organization spokeswoman, Amanda Miller, denied that the company had needed outside funding for Turnberry.\n",
      "In the end, Deutsche Bank did something unexpected.\n",
      "Two of the people familiar with the loan request said the Trump Organization had been seeking to borrow against its Miami resort to pay for work on a golf property in Turnberry, Scotland.\n",
      "At no time was any money needed to finance the purchase or the refurbishment of Trump Turnberry.”\n",
      "\n",
      "She did not specifically address whether the Trump Organization had sought a loan from Deutsche Bank.\n",
      "To finance his business’s growth, Mr. Trump turned to a longtime ally, Deutsche Bank, one of the few banks still willing to lend money to the man who has called himself “The King of Debt.”\n",
      "\n",
      "Mr. Trump’s loan request, which has not been previously reported, set off a fight that reached the top of the German bank, according to three people familiar with the request.\n",
      "In 2012, Deutsche Bank lent the Trump Organization a total of more than $100 million to finance the 72-hole Doral resort near Miami, home to the famed Blue Monster course.\n",
      "Senior officials at the bank, including its future chief executive, believed that Mr. Trump’s divisive candidacy made such a loan too risky, the people said.\n",
      "The real estate mogul was all but excommunicated from Wall Street.\n",
      "In the decade before he was elected president, Mr. Trump’s company spent hundreds of millions of dollars buying or renovating about a dozen clubs and resorts around the world.\n",
      "Deutsche Bank, which was eager to gain a foothold in the lucrative American market and more tolerant of risk than many of its rivals, filled the void.\n",
      "Despite Mr. Trump’s self-proclaimed fondness for relying on debt, the Trump Organization has reported that it used its own money for most of the acquisitions and upgrades.\n",
      "In the early 1990s, Mr. Trump’s hotel and casino properties declared bankruptcy four times, leaving prominent banks, including Citicorp and Manufacturers Hanover, with painful losses.\n",
      "“We bought Trump Turnberry without any financing and put tens of millions of dollars of our own money into the renovation, which began in 2014.\n",
      "Then, just as the first votes were being cast in the Republican presidential primaries, Mr. Trump’s lender of last resort got cold feet.\n",
      "It shows that he was actively engaged in running his business in the midst of the presidential campaign, and it is likely to attract scrutiny from Democrats on two House committees that are investigating his two-decade relationship with Deutsche Bank.\n",
      "In 1998, it lent Mr. Trump $125 million for renovations on a Wall Street skyscraper.\n",
      "Among their concerns was that if Mr. Trump won the election and then defaulted, Deutsche Bank would have to choose between not collecting on the debt or seizing the assets of the president of the United States.\n",
      "It was early 2016, and he was lending tens of millions of dollars to his presidential campaign and had been spending large sums to expand the Trump Organization’s roster of high-end properties.\n",
      "The relationship blossomed, and over the next 17 years, Deutsche Bank lent or participated in loans to Mr. Trump and his companies totaling more than $2.5 billion.\n",
      "It said no.\n",
      "You have 3 free articles remaining.\n"
     ]
    }
   ],
   "source": [
    "print(\"Resumen:\")  \n",
    "#ORDENO ESA LISTA CON LAS 5 FRASES MAS IMPORTANTES EN BASE A MI SCORE\n",
    "for sent in sorted(results,key=lambda x: x[4],reverse=True):\n",
    "    print (sent[5])  "
   ]
  }
 ],
 "metadata": {
  "kernelspec": {
   "display_name": "Python 3",
   "language": "python",
   "name": "python3"
  },
  "language_info": {
   "codemirror_mode": {
    "name": "ipython",
    "version": 3
   },
   "file_extension": ".py",
   "mimetype": "text/x-python",
   "name": "python",
   "nbconvert_exporter": "python",
   "pygments_lexer": "ipython3",
   "version": "3.7.4"
  }
 },
 "nbformat": 4,
 "nbformat_minor": 2
}
