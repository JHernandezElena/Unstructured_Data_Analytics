{
 "cells": [
  {
   "cell_type": "markdown",
   "metadata": {},
   "source": [
    "## Web scrapping, tokenizing and regular expressions\n",
    "Get the telephone numbers and webpages from all pizza places in Los Angeles."
   ]
  },
  {
   "cell_type": "markdown",
   "metadata": {},
   "source": [
    "### Notebook interface"
   ]
  },
  {
   "cell_type": "code",
   "execution_count": 1,
   "metadata": {},
   "outputs": [
    {
     "data": {
      "text/html": [
       "<style>.container { width:100% !important; }</style>"
      ],
      "text/plain": [
       "<IPython.core.display.HTML object>"
      ]
     },
     "metadata": {},
     "output_type": "display_data"
    }
   ],
   "source": [
    "from IPython.core.display import display, HTML\n",
    "display(HTML(\"<style>.container { width:100% !important; }</style>\"))"
   ]
  },
  {
   "cell_type": "markdown",
   "metadata": {},
   "source": [
    "### Libraries"
   ]
  },
  {
   "cell_type": "code",
   "execution_count": 3,
   "metadata": {},
   "outputs": [],
   "source": [
    "import pandas as pd\n",
    "import numpy as np\n",
    "from bs4 import BeautifulSoup\n",
    "import requests\n",
    "import re\n",
    "import nltk"
   ]
  },
  {
   "cell_type": "markdown",
   "metadata": {},
   "source": [
    "### Clinica Mayo pages scrapping"
   ]
  },
  {
   "cell_type": "code",
   "execution_count": 25,
   "metadata": {},
   "outputs": [],
   "source": [
    "webpage = 'https://www.mayoclinic.org/drugs-supplements/meprobamate-and-aspirin-oral-route/precautions/drg-20062231' \n",
    "    #simplemente es la consulta que hago en la web"
   ]
  },
  {
   "cell_type": "code",
   "execution_count": 26,
   "metadata": {},
   "outputs": [],
   "source": [
    "page = requests.get(webpage)\n",
    "soup = BeautifulSoup(page.content, 'html.parser')"
   ]
  },
  {
   "cell_type": "code",
   "execution_count": 80,
   "metadata": {},
   "outputs": [],
   "source": [
    "test = soup.find_all(\"div\", {'id':\"main-content\"})"
   ]
  },
  {
   "cell_type": "code",
   "execution_count": 102,
   "metadata": {},
   "outputs": [],
   "source": [
    "sentences=nltk.sent_tokenize(str(test))"
   ]
  },
  {
   "cell_type": "code",
   "execution_count": 140,
   "metadata": {},
   "outputs": [],
   "source": [
    " x = str(test).split(\"<li\")"
   ]
  },
  {
   "cell_type": "code",
   "execution_count": 142,
   "metadata": {},
   "outputs": [],
   "source": [
    "badMix = []\n",
    "for item in x:\n",
    "    if '\\r\\n</li>\\n' in item:\n",
    "        if \" (e.g., \" in item:\n",
    "            badMix.append(item) "
   ]
  },
  {
   "cell_type": "code",
   "execution_count": 143,
   "metadata": {},
   "outputs": [
    {
     "data": {
      "text/plain": [
       "['>\\r\\nAcetaminophen (e.g., Tylenol)\\r\\n</li>\\n',\n",
       " '>\\r\\nDiclofenac (e.g., Voltaren)\\r\\n</li>\\n',\n",
       " '>\\r\\nDiflunisal (e.g., Dolobid)\\r\\n</li>\\n',\n",
       " '>\\r\\nEtodolac (e.g., Lodine)\\r\\n</li>\\n',\n",
       " '>\\r\\nFenoprofen (e.g., Nalfon)\\r\\n</li>\\n',\n",
       " '>\\r\\nFloctafenine (e.g., Idarac)\\r\\n</li>\\n',\n",
       " '>\\r\\nFlurbiprofen (oral) (e.g., Ansaid)\\r\\n</li>\\n',\n",
       " '>\\r\\nIbuprofen (e.g., Motrin)\\r\\n</li>\\n',\n",
       " '>\\r\\nIndomethacin (e.g., Indocin)\\r\\n</li>\\n',\n",
       " '>\\r\\nKetoprofen (e.g., Orudis)\\r\\n</li>\\n',\n",
       " '>\\r\\nKetorolac (e.g., Toradol)\\r\\n</li>\\n',\n",
       " '>\\r\\nMeclofenamate (e.g., Meclomen)\\r\\n</li>\\n',\n",
       " '>\\r\\nMefenamic acid (e.g., Ponstel)\\r\\n</li>\\n',\n",
       " '>\\r\\nNaproxen (e.g., Naprosyn)\\r\\n</li>\\n',\n",
       " '>\\r\\nPhenylbutazone (e.g., Butazolidin)\\r\\n</li>\\n',\n",
       " '>\\r\\nPiroxicam (e.g., Feldene)\\r\\n</li>\\n',\n",
       " '>\\r\\nSulindac (e.g., Clinoril)\\r\\n</li>\\n',\n",
       " '>\\r\\nTiaprofenic acid (e.g., Surgam)\\r\\n</li>\\n',\n",
       " '>\\r\\nTolmetin (e.g., Tolectin)\\r\\n</li>\\n</ul>\\n<p>If you are taking a laxative containing cellulose, do not take it within 2 hours of taking this medicine. Taking these medicines close together may make this medicine less effective by preventing the aspirin (contained in this combination medicine) from being absorbed by your body.</p>\\n<p>For diabetic patients:</p>\\n<ul>\\n']"
      ]
     },
     "execution_count": 143,
     "metadata": {},
     "output_type": "execute_result"
    }
   ],
   "source": [
    "badMix"
   ]
  },
  {
   "cell_type": "code",
   "execution_count": 150,
   "metadata": {},
   "outputs": [],
   "source": [
    "cleanBadMix = []\n",
    "for item in badMix:\n",
    "    cleanBadMix.append(re.search(pattern, item).group(1))"
   ]
  },
  {
   "cell_type": "code",
   "execution_count": 151,
   "metadata": {},
   "outputs": [
    {
     "data": {
      "text/html": [
       "<div>\n",
       "<style scoped>\n",
       "    .dataframe tbody tr th:only-of-type {\n",
       "        vertical-align: middle;\n",
       "    }\n",
       "\n",
       "    .dataframe tbody tr th {\n",
       "        vertical-align: top;\n",
       "    }\n",
       "\n",
       "    .dataframe thead th {\n",
       "        text-align: right;\n",
       "    }\n",
       "</style>\n",
       "<table border=\"1\" class=\"dataframe\">\n",
       "  <thead>\n",
       "    <tr style=\"text-align: right;\">\n",
       "      <th></th>\n",
       "      <th>0</th>\n",
       "    </tr>\n",
       "  </thead>\n",
       "  <tbody>\n",
       "    <tr>\n",
       "      <td>0</td>\n",
       "      <td>Acetaminophen (e.g., Tylenol)</td>\n",
       "    </tr>\n",
       "    <tr>\n",
       "      <td>1</td>\n",
       "      <td>Diclofenac (e.g., Voltaren)</td>\n",
       "    </tr>\n",
       "    <tr>\n",
       "      <td>2</td>\n",
       "      <td>Diflunisal (e.g., Dolobid)</td>\n",
       "    </tr>\n",
       "    <tr>\n",
       "      <td>3</td>\n",
       "      <td>Etodolac (e.g., Lodine)</td>\n",
       "    </tr>\n",
       "    <tr>\n",
       "      <td>4</td>\n",
       "      <td>Fenoprofen (e.g., Nalfon)</td>\n",
       "    </tr>\n",
       "    <tr>\n",
       "      <td>5</td>\n",
       "      <td>Floctafenine (e.g., Idarac)</td>\n",
       "    </tr>\n",
       "    <tr>\n",
       "      <td>6</td>\n",
       "      <td>Flurbiprofen (oral) (e.g., Ansaid)</td>\n",
       "    </tr>\n",
       "    <tr>\n",
       "      <td>7</td>\n",
       "      <td>Ibuprofen (e.g., Motrin)</td>\n",
       "    </tr>\n",
       "    <tr>\n",
       "      <td>8</td>\n",
       "      <td>Indomethacin (e.g., Indocin)</td>\n",
       "    </tr>\n",
       "    <tr>\n",
       "      <td>9</td>\n",
       "      <td>Ketoprofen (e.g., Orudis)</td>\n",
       "    </tr>\n",
       "    <tr>\n",
       "      <td>10</td>\n",
       "      <td>Ketorolac (e.g., Toradol)</td>\n",
       "    </tr>\n",
       "    <tr>\n",
       "      <td>11</td>\n",
       "      <td>Meclofenamate (e.g., Meclomen)</td>\n",
       "    </tr>\n",
       "    <tr>\n",
       "      <td>12</td>\n",
       "      <td>Mefenamic acid (e.g., Ponstel)</td>\n",
       "    </tr>\n",
       "    <tr>\n",
       "      <td>13</td>\n",
       "      <td>Naproxen (e.g., Naprosyn)</td>\n",
       "    </tr>\n",
       "    <tr>\n",
       "      <td>14</td>\n",
       "      <td>Phenylbutazone (e.g., Butazolidin)</td>\n",
       "    </tr>\n",
       "    <tr>\n",
       "      <td>15</td>\n",
       "      <td>Piroxicam (e.g., Feldene)</td>\n",
       "    </tr>\n",
       "    <tr>\n",
       "      <td>16</td>\n",
       "      <td>Sulindac (e.g., Clinoril)</td>\n",
       "    </tr>\n",
       "    <tr>\n",
       "      <td>17</td>\n",
       "      <td>Tiaprofenic acid (e.g., Surgam)</td>\n",
       "    </tr>\n",
       "    <tr>\n",
       "      <td>18</td>\n",
       "      <td>Tolmetin (e.g., Tolectin)</td>\n",
       "    </tr>\n",
       "  </tbody>\n",
       "</table>\n",
       "</div>"
      ],
      "text/plain": [
       "                                     0\n",
       "0        Acetaminophen (e.g., Tylenol)\n",
       "1          Diclofenac (e.g., Voltaren)\n",
       "2           Diflunisal (e.g., Dolobid)\n",
       "3              Etodolac (e.g., Lodine)\n",
       "4            Fenoprofen (e.g., Nalfon)\n",
       "5          Floctafenine (e.g., Idarac)\n",
       "6   Flurbiprofen (oral) (e.g., Ansaid)\n",
       "7             Ibuprofen (e.g., Motrin)\n",
       "8         Indomethacin (e.g., Indocin)\n",
       "9            Ketoprofen (e.g., Orudis)\n",
       "10           Ketorolac (e.g., Toradol)\n",
       "11      Meclofenamate (e.g., Meclomen)\n",
       "12      Mefenamic acid (e.g., Ponstel)\n",
       "13           Naproxen (e.g., Naprosyn)\n",
       "14  Phenylbutazone (e.g., Butazolidin)\n",
       "15           Piroxicam (e.g., Feldene)\n",
       "16           Sulindac (e.g., Clinoril)\n",
       "17     Tiaprofenic acid (e.g., Surgam)\n",
       "18           Tolmetin (e.g., Tolectin)"
      ]
     },
     "execution_count": 151,
     "metadata": {},
     "output_type": "execute_result"
    }
   ],
   "source": [
    "pd.DataFrame(cleanBadMix)"
   ]
  }
 ],
 "metadata": {
  "kernelspec": {
   "display_name": "Python 3",
   "language": "python",
   "name": "python3"
  },
  "language_info": {
   "codemirror_mode": {
    "name": "ipython",
    "version": 3
   },
   "file_extension": ".py",
   "mimetype": "text/x-python",
   "name": "python",
   "nbconvert_exporter": "python",
   "pygments_lexer": "ipython3",
   "version": "3.7.4"
  }
 },
 "nbformat": 4,
 "nbformat_minor": 2
}
